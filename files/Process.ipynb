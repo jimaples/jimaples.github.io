{
 "cells": [
  {
   "cell_type": "code",
   "execution_count": null,
   "metadata": {
    "collapsed": true,
    "slideshow": {
     "slide_type": "slide"
    }
   },
   "outputs": [],
   "source": [
    "# Mathematical Modeling in SymPy\n",
    "\n",
    "Presented by Jacob Maples (GS Comm)\n",
    "\n",
    "<br>\n",
    "\n",
    "_Navigate the reveal.js slideshow with the arrow keys._\n",
    "\n",
    "_Go right to advance the slide, go down for details_\n",
    "\n",
    "<br>\n",
    "\n",
    "**WARNING:** This presentation contains Python!"
   ]
  },
  {
   "cell_type": "markdown",
   "metadata": {
    "slideshow": {
     "slide_type": "slide"
    }
   },
   "source": [
    "**Contents:**\n",
    "\n",
    "* [SymPy Introduction](#SymPy-Introduction)\n",
    "  * [Example Use Case](#Example-Use-Case)\n",
    "  * [Expression Trees](#Expression-Trees)\n",
    "* [Adding Functionality](#Adding-Functionality)\n",
    "  * [Converting Equations to Text](#Convert-SymPy-equations-to-text)\n",
    "  * [Converting Equations to LaTeX](#Convert-SymPy-equations-to-LaTeX)\n",
    "  * [Rearranging Equations](#Rearranging-Equations)\n",
    "  * [Evaluating Expressions](#Evaluating-Expressions)\n",
    "  * [Compiling Expressions](#Compiling-Expressions)\n",
    "* [All together now](#All-together-now)\n",
    "\n",
    "\n",
    "* [Putting It All Together](#Putting-Things-Together)\n",
    "* [More Information](#More-Information)\n",
    "  * [Sympy Help](#SymPy-Help)\n",
    "  * [Upgrading Code to Python 3](#Upgrading-Code-to-Python-3)\n",
    "  * [Interesting Links / References](#Interesting-Links-/-References) "
   ]
  },
  {
   "cell_type": "markdown",
   "metadata": {
    "slideshow": {
     "slide_type": "skip"
    }
   },
   "source": [
    "**To Do:**\n",
    "\n",
    "* wrap sympy.subsm sympy.solve\n",
    "* look at Kaggle notebook for creating a cell, use to generate a %%latex cell\n",
    "* create interface table\n",
    "* create entity figure (use script at work)\n",
    "* figure out multiline Latex print with sympy printer (no %%latex cell)\n",
    "* ipython nbconvert myslides.ipynb --to slides --post serve\n"
   ]
  },
  {
   "cell_type": "markdown",
   "metadata": {
    "slideshow": {
     "slide_type": "slide"
    }
   },
   "source": [
    "## SymPy Introduction"
   ]
  },
  {
   "cell_type": "markdown",
   "metadata": {
    "slideshow": {
     "slide_type": "skip"
    }
   },
   "source": [
    "Links: [Top](#Mathematical-Modeling-in-SymPy)\n",
    "[Intro](#SymPy-Introduction) \n",
    "[Text](#Convert-SymPy-equations-to-text)\n",
    "[LaTeX](#Convert-SymPy-equations-to-Latex)\n",
    "[Solver](#Rearranging-Equations)\n",
    "[Evaluating](#Evaluating-Expressions)\n",
    "[Designs](#Putting-Things-Together)\n",
    "[Help][]\n",
    "[Help]: #Help-(Doctrings)"
   ]
  },
  {
   "cell_type": "code",
   "execution_count": 1,
   "metadata": {
    "collapsed": false
   },
   "outputs": [],
   "source": [
    "import sympy"
   ]
  },
  {
   "cell_type": "code",
   "execution_count": 2,
   "metadata": {
    "collapsed": false
   },
   "outputs": [
    {
     "name": "stdout",
     "output_type": "stream",
     "text": [
      "\n",
      "SymPy is a Python library for symbolic mathematics. It aims to become a\n",
      "full-featured computer algebra system (CAS) while keeping the code as simple\n",
      "as possible in order to be comprehensible and easily extensible.  SymPy is\n",
      "written entirely in Python. It depends on mpmath, and other external libraries\n",
      "may be optionally for things like plotting support.\n",
      "\n",
      "See the webpage for more information and documentation:\n",
      "\n",
      "    http://sympy.org\n",
      "\n",
      "\n"
     ]
    }
   ],
   "source": [
    "print(sympy.__doc__)"
   ]
  },
  {
   "cell_type": "code",
   "execution_count": 3,
   "metadata": {
    "collapsed": false,
    "scrolled": true,
    "slideshow": {
     "slide_type": "subslide"
    }
   },
   "outputs": [
    {
     "name": "stdout",
     "output_type": "stream",
     "text": [
      "Help on package sympy:\n",
      "\n",
      "NAME\n",
      "    sympy\n",
      "\n",
      "DESCRIPTION\n",
      "    SymPy is a Python library for symbolic mathematics. It aims to become a\n",
      "    full-featured computer algebra system (CAS) while keeping the code as simple\n",
      "    as possible in order to be comprehensible and easily extensible.  SymPy is\n",
      "    written entirely in Python. It depends on mpmath, and other external libraries\n",
      "    may be optionally for things like plotting support.\n",
      "    \n",
      "    See the webpage for more information and documentation:\n",
      "    \n",
      "        http://sympy.org\n",
      "\n",
      "PACKAGE CONTENTS\n",
      "    abc\n",
      "    assumptions (package)\n",
      "    benchmarks (package)\n",
      "    calculus (package)\n",
      "    categories (package)\n",
      "    combinatorics (package)\n",
      "    concrete (package)\n",
      "    conftest\n",
      "    core (package)\n",
      "    crypto (package)\n",
      "    deprecated (package)\n",
      "    diffgeom (package)\n",
      "    external (package)\n",
      "    functions (package)\n",
      "    galgebra\n",
      "    geometry (package)\n",
      "    integrals (package)\n",
      "    interactive (package)\n",
      "    liealgebras (package)\n",
      "    logic (package)\n",
      "    matrices (package)\n",
      "    ntheory (package)\n",
      "    parsing (package)\n",
      "    physics (package)\n",
      "    plotting (package)\n",
      "    polys (package)\n",
      "    printing (package)\n",
      "    release\n",
      "    sandbox (package)\n",
      "    series (package)\n",
      "    sets (package)\n",
      "    simplify (package)\n",
      "    solvers (package)\n",
      "    stats (package)\n",
      "    strategies (package)\n",
      "    tensor (package)\n",
      "    unify (package)\n",
      "    utilities (package)\n",
      "    vector (package)\n",
      "\n",
      "SUBMODULES\n",
      "    add\n",
      "    ask_generated\n",
      "    assume\n",
      "    basic\n",
      "    bivariate\n",
      "    boolalg\n",
      "    cache\n",
      "    class_registry\n",
      "    combinatorial\n",
      "    compatibility\n",
      "    conditionset\n",
      "    containers\n",
      "    contains\n",
      "    continued_fraction\n",
      "    coreerrors\n",
      "    cse_main\n",
      "    cse_opts\n",
      "    curve\n",
      "    decorator\n",
      "    decorators\n",
      "    dense\n",
      "    deutils\n",
      "    elementary\n",
      "    ellipse\n",
      "    entity\n",
      "    enumerative\n",
      "    epathtools\n",
      "    euler\n",
      "    evalf\n",
      "    exceptions\n",
      "    expr\n",
      "    expr_with_intlimits\n",
      "    expr_with_limits\n",
      "    expressions\n",
      "    exprtools\n",
      "    factor_\n",
      "    facts\n",
      "    fancysets\n",
      "    finite_diff\n",
      "    function\n",
      "    generate\n",
      "    gosper\n",
      "    immutable\n",
      "    index_methods\n",
      "    indexed\n",
      "    inequalities\n",
      "    inference\n",
      "    iterables\n",
      "    line\n",
      "    line3d\n",
      "    magic\n",
      "    manualintegrate\n",
      "    meijerint\n",
      "    memoization\n",
      "    misc\n",
      "    mod\n",
      "    mul\n",
      "    multidimensional\n",
      "    multinomial\n",
      "    numbers\n",
      "    ode\n",
      "    operations\n",
      "    partitions_\n",
      "    pde\n",
      "    plane\n",
      "    point\n",
      "    polygon\n",
      "    polysys\n",
      "    power\n",
      "    primetest\n",
      "    products\n",
      "    recurr\n",
      "    relational\n",
      "    residue_ntheory\n",
      "    rules\n",
      "    runtests\n",
      "    singleton\n",
      "    sparse\n",
      "    special\n",
      "    summations\n",
      "    symbol\n",
      "    timeutils\n",
      "    transforms\n",
      "    traversaltools\n",
      "    trigonometry\n",
      "    util\n",
      "\n",
      "DATA\n",
      "    C = <sympy.deprecated.class_registry.ClassRegistry object>\n",
      "    CC = CC\n",
      "    Catalan = Catalan\n",
      "    E = E\n",
      "    EX = EX\n",
      "    EulerGamma = EulerGamma\n",
      "    FU = {'L': <function L>, 'TR0': <function TR0>, 'TR1': <function TR1>,...\n",
      "    GoldenRatio = GoldenRatio\n",
      "    I = I\n",
      "    Id = Lambda(_x, _x)\n",
      "    Q = <sympy.assumptions.ask.AssumptionKeys object>\n",
      "    QQ = QQ\n",
      "    RR = RR\n",
      "    S = S\n",
      "    SYMPY_DEBUG = False\n",
      "    ZZ = ZZ\n",
      "    false = False\n",
      "    grevlex = ReversedGradedLexOrder()\n",
      "    grlex = GradedLexOrder()\n",
      "    igrevlex = InverseOrder()\n",
      "    igrlex = InverseOrder()\n",
      "    ilex = InverseOrder()\n",
      "    lex = LexOrder()\n",
      "    nan = nan\n",
      "    oo = oo\n",
      "    pi = pi\n",
      "    plot_backends = {'default': <class 'sympy.plotting.plot.DefaultBackend...\n",
      "    sieve = <Sieve with 6 primes sieved: 2, 3, 5, ... 11, 13>\n",
      "    true = True\n",
      "    zoo = zoo\n",
      "\n",
      "VERSION\n",
      "    1.0\n",
      "\n",
      "FILE\n",
      "    c:\\anaconda3\\lib\\site-packages\\sympy\\__init__.py\n",
      "\n",
      "\n"
     ]
    }
   ],
   "source": [
    "help(sympy)"
   ]
  },
  {
   "cell_type": "markdown",
   "metadata": {
    "slideshow": {
     "slide_type": "slide"
    }
   },
   "source": [
    "Here are some examples of basic symbol operations:"
   ]
  },
  {
   "cell_type": "code",
   "execution_count": 4,
   "metadata": {
    "collapsed": false
   },
   "outputs": [
    {
     "data": {
      "text/plain": [
       "(x, 2*x + 1, x, sympy.core.symbol.Symbol, True)"
      ]
     },
     "execution_count": 4,
     "metadata": {},
     "output_type": "execute_result"
    }
   ],
   "source": [
    "x = sympy.Symbol('x')\n",
    "y = x\n",
    "x, x*2+1, y, type(y), x == y"
   ]
  },
  {
   "cell_type": "code",
   "execution_count": 5,
   "metadata": {
    "collapsed": false
   },
   "outputs": [
    {
     "name": "stdout",
     "output_type": "stream",
     "text": [
      "name 'z' is not defined\n"
     ]
    }
   ],
   "source": [
    "try:\n",
    "    x*y+z\n",
    "except NameError as e:\n",
    "    print(e)"
   ]
  },
  {
   "cell_type": "code",
   "execution_count": 6,
   "metadata": {
    "collapsed": false
   },
   "outputs": [
    {
     "data": {
      "text/plain": [
       "((x5, x6, x7, x8, x9), (x, y, z))"
      ]
     },
     "execution_count": 6,
     "metadata": {},
     "output_type": "execute_result"
    }
   ],
   "source": [
    "sympy.symbols('x5:10'), sympy.symbols('x:z')"
   ]
  },
  {
   "cell_type": "code",
   "execution_count": 7,
   "metadata": {
    "collapsed": false
   },
   "outputs": [
    {
     "data": {
      "text/plain": [
       "[variable0, variable1, variable2, variable3, variable4]"
      ]
     },
     "execution_count": 7,
     "metadata": {},
     "output_type": "execute_result"
    }
   ],
   "source": [
    "X = sympy.numbered_symbols('variable')\n",
    "[ next(X) for i in range(5) ]"
   ]
  },
  {
   "cell_type": "markdown",
   "metadata": {
    "slideshow": {
     "slide_type": "slide"
    }
   },
   "source": [
    "SymPy also handles expressions:"
   ]
  },
  {
   "cell_type": "code",
   "execution_count": 8,
   "metadata": {
    "collapsed": false
   },
   "outputs": [
    {
     "data": {
      "text/plain": [
       "(x*(x - 1) + x - 1, (x - 1)*(x + 1), x**2 - 1)"
      ]
     },
     "execution_count": 8,
     "metadata": {},
     "output_type": "execute_result"
    }
   ],
   "source": [
    "e = sympy.sympify('x*(x-1)+(x-1)')\n",
    "e, sympy.factor(e), sympy.expand(e)"
   ]
  },
  {
   "cell_type": "markdown",
   "metadata": {},
   "source": [
    "But most work of interest is more than single expressions, so here is a helper function to handle systems of equations."
   ]
  },
  {
   "cell_type": "code",
   "execution_count": 9,
   "metadata": {
    "collapsed": false
   },
   "outputs": [
    {
     "name": "stdout",
     "output_type": "stream",
     "text": [
      "Help on function parseExpr in module process:\n",
      "\n",
      "parseExpr(expr='')\n",
      "    Helper function to iterate through a list of equations\n",
      "\n"
     ]
    }
   ],
   "source": [
    "from process import parseExpr\n",
    "help(parseExpr)"
   ]
  },
  {
   "cell_type": "code",
   "execution_count": 10,
   "metadata": {
    "collapsed": false,
    "slideshow": {
     "slide_type": "subslide"
    }
   },
   "outputs": [
    {
     "name": "stdout",
     "output_type": "stream",
     "text": [
      "def parseExpr(expr=''):\n",
      "    '''Helper function to iterate through a list of equations'''\n",
      "    err = 'Malformed expression! Does not match \"y = f(x)\"\\n  {0:s}'\n",
      "    for s in expr.strip().split('\\n'):\n",
      "        # Parse anything that looks like an equation and isn't commented out\n",
      "        if ('=' in s) and (s[0] != '#'):\n",
      "            # convert expression to sympy\n",
      "            y, f = list(map(str.strip, s.split('=',1)))\n",
      "            y = sympy.Symbol(y)\n",
      "            f = sympy.sympify(f)\n",
      "            assert type(y) == sympy.symbol.Symbol, err.format(s)\n",
      "            yield (y, f)\n",
      "\n"
     ]
    }
   ],
   "source": [
    "import inspect\n",
    "print(inspect.getsource(parseExpr))"
   ]
  },
  {
   "cell_type": "markdown",
   "metadata": {
    "slideshow": {
     "slide_type": "slide"
    }
   },
   "source": [
    "### Example Use Case\n",
    "\n",
    "Let's use a simple example to explore the additional functionality.  Performing a 2-D rotation involves multiple dependant variables, independant variables, and functions.\n",
    "\n",
    "$x' = x \\cos \\theta - y \\sin \\theta$\n",
    "\n",
    "$y' = x \\sin \\theta + y \\cos \\theta$"
   ]
  },
  {
   "cell_type": "code",
   "execution_count": 11,
   "metadata": {
    "collapsed": false,
    "slideshow": {
     "slide_type": "-"
    }
   },
   "outputs": [
    {
     "data": {
      "text/plain": [
       "((x, y, theta),\n",
       " (x', y'),\n",
       " {x': x*cos(theta) - y*sin(theta), y': x*sin(theta) + y*cos(theta)})"
      ]
     },
     "execution_count": 11,
     "metadata": {},
     "output_type": "execute_result"
    }
   ],
   "source": [
    "inputs='x y theta'\n",
    "outputs=\"x' y'\"\n",
    "expr='''\n",
    "x' = x*cos(theta) - y*sin(theta)\n",
    "y' = x*sin(theta) + y*cos(theta)\n",
    "'''\n",
    "\n",
    "ins = sympy.symbols(inputs)\n",
    "outs = sympy.symbols(outputs)\n",
    "eqn = dict(parseExpr(expr))\n",
    "\n",
    "# No quote marks, the dictionary keys are SymPy symbols\n",
    "ins, outs, eqn"
   ]
  },
  {
   "cell_type": "markdown",
   "metadata": {
    "slideshow": {
     "slide_type": "slide"
    }
   },
   "source": [
    "### Expression Trees ###\n",
    "\n",
    "SymPy maintains a tree for all expressions. Everything in SymPy has .args and .func arguments that allow the expression (at that point in the tree) to be reconstructed. The .func argument is essentially the same as calling type and specifies whether the node is a add, multiply, cosine, some other function or a symbol. As you might expect, the .args attribute for leaves is empty."
   ]
  },
  {
   "cell_type": "code",
   "execution_count": 12,
   "metadata": {
    "collapsed": false
   },
   "outputs": [
    {
     "name": "stdout",
     "output_type": "stream",
     "text": [
      "<class 'sympy.core.add.Add'> \t x*cos(theta) - y*sin(theta) \t (x*cos(theta), -y*sin(theta))\n",
      "<class 'sympy.core.mul.Mul'> \t x*cos(theta) \t (x, cos(theta))\n",
      "<class 'sympy.core.symbol.Symbol'> \t x \t ()\n",
      "cos \t cos(theta) \t (theta,)\n",
      "<class 'sympy.core.symbol.Symbol'> \t theta \t ()\n",
      "<class 'sympy.core.mul.Mul'> \t -y*sin(theta) \t (-1, y, sin(theta))\n",
      "<class 'sympy.core.numbers.NegativeOne'> \t -1 \t ()\n",
      "<class 'sympy.core.symbol.Symbol'> \t y \t ()\n",
      "sin \t sin(theta) \t (theta,)\n",
      "<class 'sympy.core.symbol.Symbol'> \t theta \t ()\n"
     ]
    },
    {
     "data": {
      "text/plain": [
       "({y, x, theta}, {cos, sin})"
      ]
     },
     "execution_count": 12,
     "metadata": {},
     "output_type": "execute_result"
    }
   ],
   "source": [
    "expr_inputs = set()\n",
    "expr_functs = set()\n",
    "for arg in sympy.preorder_traversal(eqn[outs[0]]):\n",
    "    print(arg.func, '\\t', arg, '\\t', arg.args)\n",
    "    if arg.is_Symbol:\n",
    "        expr_inputs.add(arg)\n",
    "    elif arg.is_Function:\n",
    "        expr_functs.add(arg.func)    \n",
    "expr_inputs, expr_functs"
   ]
  },
  {
   "cell_type": "markdown",
   "metadata": {
    "slideshow": {
     "slide_type": "slide"
    }
   },
   "source": [
    "## Adding Functionality\n",
    "Before we go on, let's create a class around parseExpr so we can add object-oriented functionality."
   ]
  },
  {
   "cell_type": "code",
   "execution_count": 13,
   "metadata": {
    "collapsed": false
   },
   "outputs": [
    {
     "name": "stdout",
     "output_type": "stream",
     "text": [
      "Block(expr, inputs='', outputs='', functions={})\n",
      "Generic processing block that performs specified calculations on given inputs\n",
      "in such a way to ease documentation\n",
      "    \n",
      "Creating Block(expr=\"\\nx' = x*cos(theta) - y*sin(theta)\\ny' = x*sin(theta) + y*cos(theta)\\n\", name='2-D Rotate', inputs='x y theta', outputs=\"x' y'\", functions={})\n",
      "outs=(x', y')\n"
     ]
    }
   ],
   "source": [
    "from process import Block\n",
    "print(inspect.getdoc(Block))\n",
    "b = Block(expr, '2-D Rotate', inputs, outputs)"
   ]
  },
  {
   "cell_type": "code",
   "execution_count": 14,
   "metadata": {
    "collapsed": false,
    "scrolled": true,
    "slideshow": {
     "slide_type": "subslide"
    }
   },
   "outputs": [
    {
     "name": "stdout",
     "output_type": "stream",
     "text": [
      "    def __init__(self, expr, name='', inputs='', outputs='', functions={}):\n",
      "        '''Create a Block instance'''\n",
      "        \n",
      "        if Block.verbose:\n",
      "            s = 'Creating Block(expr={:s}, name={:s}, inputs={:s}, outputs={:s}, functions='\n",
      "            s = s.format(*list(map(repr,[expr, name, inputs, outputs])))+'{'\n",
      "            if functions:\n",
      "                s_functions = []\n",
      "                for k, v in functions.items():\n",
      "                    s2 = k+':'+v.__name__\n",
      "                    args, varargs, keywords, defaults = getargspec(v)\n",
      "                    if varargs != None:\n",
      "                        args += ['*args']\n",
      "                    if keywords != None:\n",
      "                        args += ['*kwargs']\n",
      "                    s2 += '('+','.join(args)+')'\n",
      "                    s_functions.append(s2)\n",
      "                s += ','.join(s_functions)\n",
      "            print(s+'})')\n",
      "        \n",
      "        self.name = name\n",
      "        self.user = functions\n",
      "        \n",
      "        # save in list form for ordered outputs\n",
      "        eqn = tuple(parseExpr(expr))\n",
      "        self.eqn = tuple([ sympy.Eq(k, v) for k, v in eqn ])\n",
      "        # placeholder for compiled expressions\n",
      "        self.lambdas = {}\n",
      "        \n",
      "        # Extract inputs and functions used\n",
      "        expr_inputs = set()\n",
      "        expr_functs = set()\n",
      "        for k, v in eqn:\n",
      "            for arg in sympy.preorder_traversal(v):\n",
      "                if arg.is_Symbol:\n",
      "                    expr_inputs.add(arg)\n",
      "                elif arg.is_Function:\n",
      "                    expr_functs.add(arg.func)\n",
      "        \n",
      "        # save SymPy style .args and .func attributes\n",
      "        self.args = tuple(expr_inputs)\n",
      "        self.func = tuple(expr_functs)     \n",
      "        \n",
      "        if inputs:\n",
      "            self.ins = sympy.symbols(inputs)\n",
      "        else: # extract inputs from expr\n",
      "            self.ins = tuple(self.args)\n",
      "            \n",
      "        outs = tuple([ i[0] for i in eqn ])\n",
      "        if outputs:\n",
      "            self.outs = sympy.symbols(outputs)\n",
      "            print('outs='+repr(outs))\n",
      "            self.hidden = tuple([ i for i in outs if i not in self.outs ])\n",
      "        else: # extract inputs from expr\n",
      "            self.outs = outs\n",
      "            self.hidden = tuple()\n",
      "            if Block.verbose:\n",
      "                print('  Extracting outputs:', self.outs)\n",
      "                \n",
      "        # create _eval() wrapper function with useful docstring        \n",
      "        self.eval = self._wrap_eval()\n",
      "\n"
     ]
    }
   ],
   "source": [
    "# spoiler alert!\n",
    "print(inspect.getsource(Block.__init__))"
   ]
  },
  {
   "cell_type": "markdown",
   "metadata": {
    "slideshow": {
     "slide_type": "slide"
    }
   },
   "source": [
    "### Convert SymPy equations to text"
   ]
  },
  {
   "cell_type": "markdown",
   "metadata": {
    "slideshow": {
     "slide_type": "skip"
    }
   },
   "source": [
    "Links: [Top](#Mathematical-Modeling-in-SymPy)\n",
    "[Intro](#SymPy-Introduction) \n",
    "[Text](#Convert-SymPy-equations-to-text)\n",
    "[LaTeX](#Convert-SymPy-equations-to-Latex)\n",
    "[Solver](#Rearranging-Equations)\n",
    "[Evaluating](#Evaluating-Expressions)\n",
    "[Designs](#Putting-Things-Together)\n",
    "[Help][]\n",
    "[Help]: #Help-(Doctrings)"
   ]
  },
  {
   "cell_type": "code",
   "execution_count": 15,
   "metadata": {
    "collapsed": false
   },
   "outputs": [
    {
     "name": "stdout",
     "output_type": "stream",
     "text": [
      "x' = x⋅cos(θ) - y⋅sin(θ)\n",
      "y' = x⋅sin(θ) + y⋅cos(θ)\n",
      "\n",
      "x' = x*cos(theta) - y*sin(theta)\n",
      "y' = x*sin(theta) + y*cos(theta)\n"
     ]
    }
   ],
   "source": [
    "print('\\n'.join( str(k)+' = '+sympy.pretty(v) for k,v in eqn.items() ))\n",
    "print()\n",
    "print('\\n'.join( str(k)+' = '+str(v) for k,v in eqn.items() ))"
   ]
  },
  {
   "cell_type": "markdown",
   "metadata": {},
   "source": [
    "So our Block instance can do the same thing, it needs to have pretty and \\_\\_str\\_\\_ functions defined.  A \\_\\_repr\\_\\_ function could also be used to return a separate representation of the object."
   ]
  },
  {
   "cell_type": "code",
   "execution_count": 16,
   "metadata": {
    "collapsed": false
   },
   "outputs": [
    {
     "name": "stdout",
     "output_type": "stream",
     "text": [
      "\n",
      "Block: 2-D Rotate\n",
      "x' = x⋅cos(θ) - y⋅sin(θ)\n",
      "y' = x⋅sin(θ) + y⋅cos(θ)\n",
      "Block: 2-D Rotate\n",
      "Eq(x', x*cos(theta) - y*sin(theta))\n",
      "Eq(y', x*sin(theta) + y*cos(theta))\n"
     ]
    }
   ],
   "source": [
    "b.pretty()\n",
    "print(b)"
   ]
  },
  {
   "cell_type": "code",
   "execution_count": 17,
   "metadata": {
    "collapsed": false,
    "slideshow": {
     "slide_type": "subslide"
    }
   },
   "outputs": [
    {
     "name": "stdout",
     "output_type": "stream",
     "text": [
      "    def pretty(self):\n",
      "        '''Show a SymPy pretty print version of Block equations'''\n",
      "        print('\\nBlock:', self.name)\n",
      "        print('\\n'.join( sympy.pretty(e) for e in self.eqn ))\n",
      "\n",
      "    def __str__(self):\n",
      "        '''Support str calls on Block instances'''\n",
      "        s  = 'Block: '+str(self.name)+'\\n'\n",
      "        s += '\\n'.join( str(e).replace('==','=') for e in self.eqn )\n",
      "        return s\n",
      "\n"
     ]
    }
   ],
   "source": [
    "print(inspect.getsource(b.pretty))\n",
    "print(inspect.getsource(b.__str__))"
   ]
  },
  {
   "cell_type": "markdown",
   "metadata": {
    "slideshow": {
     "slide_type": "slide"
    }
   },
   "source": [
    "### Convert SymPy equations to LaTeX\n",
    "\n",
    "Strings are well and good, but don't quite cut it for publications and presentations"
   ]
  },
  {
   "cell_type": "markdown",
   "metadata": {
    "slideshow": {
     "slide_type": "skip"
    }
   },
   "source": [
    "Links: [Top](#Mathematical-Modeling-in-SymPy)\n",
    "[Intro](#SymPy-Introduction) \n",
    "[Text](#Convert-SymPy-equations-to-text)\n",
    "[LaTeX](#Convert-SymPy-equations-to-Latex)\n",
    "[Solver](#Rearranging-Equations)\n",
    "[Evaluating](#Evaluating-Expressions)\n",
    "[Designs](#Putting-Things-Together)\n",
    "[Help][]\n",
    "[Help]: #Help-(Doctrings)"
   ]
  },
  {
   "cell_type": "code",
   "execution_count": 18,
   "metadata": {
    "collapsed": false
   },
   "outputs": [
    {
     "name": "stdout",
     "output_type": "stream",
     "text": [
      "x' = x \\cos{\\left (\\theta \\right )} - y \\sin{\\left (\\theta \\right )} \\\\\n",
      "y' = x \\sin{\\left (\\theta \\right )} + y \\cos{\\left (\\theta \\right )}\n"
     ]
    }
   ],
   "source": [
    "# Generate a LaTeX string for the Jupyter notebook to render\n",
    "print(' \\\\\\\\\\n'.join([ str(k)+' = '+sympy.latex(v) for k, v in eqn.items() ]))"
   ]
  },
  {
   "cell_type": "code",
   "execution_count": 19,
   "metadata": {
    "collapsed": false
   },
   "outputs": [
    {
     "data": {
      "text/latex": [
       "$\n",
       "x' = x \\cos{\\left (\\theta \\right )} - y \\sin{\\left (\\theta \\right )} \\\\\n",
       "y' = x \\sin{\\left (\\theta \\right )} + y \\cos{\\left (\\theta \\right )}\n",
       "$"
      ],
      "text/plain": [
       "<IPython.core.display.Latex object>"
      ]
     },
     "metadata": {},
     "output_type": "display_data"
    }
   ],
   "source": [
    "%%latex\n",
    "$\n",
    "x' = x \\cos{\\left (\\theta \\right )} - y \\sin{\\left (\\theta \\right )} \\\\\n",
    "y' = x \\sin{\\left (\\theta \\right )} + y \\cos{\\left (\\theta \\right )}\n",
    "$"
   ]
  },
  {
   "cell_type": "markdown",
   "metadata": {},
   "source": [
    "For our Block instance, the latex function doesn't need any arguments, so it can be handled as an attribute"
   ]
  },
  {
   "cell_type": "code",
   "execution_count": 20,
   "metadata": {
    "collapsed": false
   },
   "outputs": [
    {
     "name": "stdout",
     "output_type": "stream",
     "text": [
      "\\underline{\\verb;Block: 2-D Rotate;} \\\\ \n",
      "x' = x \\cos{\\left (\\theta \\right )} - y \\sin{\\left (\\theta \\right )} \\\\ \n",
      "y' = x \\sin{\\left (\\theta \\right )} + y \\cos{\\left (\\theta \\right )}\n"
     ]
    }
   ],
   "source": [
    "print(b.latex)"
   ]
  },
  {
   "cell_type": "code",
   "execution_count": 21,
   "metadata": {
    "collapsed": false,
    "slideshow": {
     "slide_type": "skip"
    }
   },
   "outputs": [
    {
     "data": {
      "text/latex": [
       "$\n",
       "\\underline{\\verb;Block: 2-D Rotate;} \\\\ \n",
       "x' = x \\cos{\\left (\\theta \\right )} - y \\sin{\\left (\\theta \\right )} \\\\ \n",
       "y' = x \\sin{\\left (\\theta \\right )} + y \\cos{\\left (\\theta \\right )}\n",
       "$"
      ],
      "text/plain": [
       "<IPython.core.display.Latex object>"
      ]
     },
     "metadata": {},
     "output_type": "display_data"
    }
   ],
   "source": [
    "%%latex\n",
    "$\n",
    "\\underline{\\verb;Block: 2-D Rotate;} \\\\ \n",
    "x' = x \\cos{\\left (\\theta \\right )} - y \\sin{\\left (\\theta \\right )} \\\\ \n",
    "y' = x \\sin{\\left (\\theta \\right )} + y \\cos{\\left (\\theta \\right )}\n",
    "$"
   ]
  },
  {
   "cell_type": "code",
   "execution_count": 22,
   "metadata": {
    "collapsed": false,
    "scrolled": true,
    "slideshow": {
     "slide_type": "subslide"
    }
   },
   "outputs": [
    {
     "name": "stdout",
     "output_type": "stream",
     "text": [
      "    @property\n",
      "    def latex(self):\n",
      "        '''generate a latex version of Block equations'''\n",
      "        # \\verb;*; leaves contents unformatted\n",
      "        s  = r'\\underline{\\verb;Block: '+str(self.name)+';} \\\\\\\\ \\n'\n",
      "        s += ' \\\\\\\\ \\n'.join( sympy.latex(e) for e in self.eqn )\n",
      "        return s\n"
     ]
    }
   ],
   "source": [
    "f = inspect.getsource(Block).split('def ')\n",
    "for i,s in enumerate(f):\n",
    "    if s.startswith('latex'):\n",
    "        # grab the last 2 lines from the previous code block, suppress the final newline\n",
    "        print('\\n'.join(f[i-1].rsplit('\\n',2)[-2:]), end=\"\")\n",
    "        print('def '+s.strip())"
   ]
  },
  {
   "cell_type": "markdown",
   "metadata": {},
   "source": [
    "As a property, the latex function above is implicitly called instead of returning the function itself.  Attempting to use `inspect.getsource` results in a `TypeError` since the LaTeX output isn't source code."
   ]
  },
  {
   "cell_type": "code",
   "execution_count": 23,
   "metadata": {
    "collapsed": false
   },
   "outputs": [
    {
     "name": "stdout",
     "output_type": "stream",
     "text": [
      "<class 'TypeError'>  :  <property object at 0x000002861B91AC28> is not a module, class, method, function, traceback, frame, or code object\n"
     ]
    }
   ],
   "source": [
    "try:\n",
    "    inspect.getsource(getattr(Block,'latex'))\n",
    "except TypeError as e:\n",
    "    print(type(e),' : ', e)"
   ]
  },
  {
   "cell_type": "markdown",
   "metadata": {
    "slideshow": {
     "slide_type": "slide"
    }
   },
   "source": [
    "We've seen a couple SymPy output formats. The `init_printing` function provides a lot of additional control over how symbols and expressions are shown, including LaTeX."
   ]
  },
  {
   "cell_type": "code",
   "execution_count": 24,
   "metadata": {
    "collapsed": false
   },
   "outputs": [
    {
     "data": {
      "text/plain": [
       "(Eq(x', x*cos(theta) - y*sin(theta)), Eq(y', x*sin(theta) + y*cos(theta)))"
      ]
     },
     "execution_count": 24,
     "metadata": {},
     "output_type": "execute_result"
    }
   ],
   "source": [
    "b.eqn"
   ]
  },
  {
   "cell_type": "code",
   "execution_count": 25,
   "metadata": {
    "collapsed": false
   },
   "outputs": [],
   "source": [
    "sympy.init_printing(use_latex=True)\n",
    "#sympy.init_printing(use_latex=False)"
   ]
  },
  {
   "cell_type": "code",
   "execution_count": 26,
   "metadata": {
    "collapsed": false
   },
   "outputs": [
    {
     "data": {
      "image/png": "[encoded data removed]",
      "text/latex": [
       "$$\\left ( x' = x \\cos{\\left (\\theta \\right )} - y \\sin{\\left (\\theta \\right )}, \\quad y' = x \\sin{\\left (\\theta \\right )} + y \\cos{\\left (\\theta \\right )}\\right )$$"
      ],
      "text/plain": [
       "(x' = x⋅cos(θ) - y⋅sin(θ), y' = x⋅sin(θ) + y⋅cos(θ))"
      ]
     },
     "execution_count": 26,
     "metadata": {},
     "output_type": "execute_result"
    }
   ],
   "source": [
    "b.eqn"
   ]
  },
  {
   "cell_type": "code",
   "execution_count": 27,
   "metadata": {
    "collapsed": false
   },
   "outputs": [
    {
     "data": {
      "text/latex": [
       "$$\\left[\\begin{matrix}x' = x \\cos{\\left (\\theta \\right )} - y \\sin{\\left (\\theta \\right )}\\\\y' = x \\sin{\\left (\\theta \\right )} + y \\cos{\\left (\\theta \\right )}\\end{matrix}\\right]$$"
      ],
      "text/plain": [
       "⎡x' = x⋅cos(θ) - y⋅sin(θ)⎤\n",
       "⎢                        ⎥\n",
       "⎣y' = x⋅sin(θ) + y⋅cos(θ)⎦"
      ]
     },
     "execution_count": 27,
     "metadata": {},
     "output_type": "execute_result"
    }
   ],
   "source": [
    "sympy.Matrix(b.eqn)"
   ]
  },
  {
   "cell_type": "code",
   "execution_count": 28,
   "metadata": {
    "collapsed": false,
    "scrolled": true,
    "slideshow": {
     "slide_type": "subslide"
    }
   },
   "outputs": [
    {
     "name": "stdout",
     "output_type": "stream",
     "text": [
      "Help on function init_printing in module sympy.interactive.printing:\n",
      "\n",
      "init_printing(pretty_print=True, order=None, use_unicode=None, use_latex=None, wrap_line=None, num_columns=None, no_global=False, ip=None, euler=False, forecolor='Black', backcolor='Transparent', fontsize='10pt', latex_mode='equation*', print_builtin=True, str_printer=None, pretty_printer=None, latex_printer=None)\n",
      "    Initializes pretty-printer depending on the environment.\n",
      "    \n",
      "    Parameters\n",
      "    ==========\n",
      "    \n",
      "    pretty_print: boolean\n",
      "        If True, use pretty_print to stringify or the provided pretty\n",
      "        printer; if False, use sstrrepr to stringify or the provided string\n",
      "        printer.\n",
      "    order: string or None\n",
      "        There are a few different settings for this parameter:\n",
      "        lex (default), which is lexographic order;\n",
      "        grlex, which is graded lexographic order;\n",
      "        grevlex, which is reversed graded lexographic order;\n",
      "        old, which is used for compatibility reasons and for long expressions;\n",
      "        None, which sets it to lex.\n",
      "    use_unicode: boolean or None\n",
      "        If True, use unicode characters;\n",
      "        if False, do not use unicode characters.\n",
      "    use_latex: string, boolean, or None\n",
      "        If True, use default latex rendering in GUI interfaces (png and\n",
      "        mathjax);\n",
      "        if False, do not use latex rendering;\n",
      "        if 'png', enable latex rendering with an external latex compiler,\n",
      "        falling back to matplotlib if external compilation fails;\n",
      "        if 'matplotlib', enable latex rendering with matplotlib;\n",
      "        if 'mathjax', enable latex text generation, for example MathJax\n",
      "        rendering in IPython notebook or text rendering in LaTeX documents\n",
      "    wrap_line: boolean\n",
      "        If True, lines will wrap at the end; if False, they will not wrap\n",
      "        but continue as one line. This is only relevant if `pretty_print` is\n",
      "        True.\n",
      "    num_columns: int or None\n",
      "        If int, number of columns before wrapping is set to num_columns; if\n",
      "        None, number of columns before wrapping is set to terminal width.\n",
      "        This is only relevant if `pretty_print` is True.\n",
      "    no_global: boolean\n",
      "        If True, the settings become system wide;\n",
      "        if False, use just for this console/session.\n",
      "    ip: An interactive console\n",
      "        This can either be an instance of IPython,\n",
      "        or a class that derives from code.InteractiveConsole.\n",
      "    euler: boolean, optional, default=False\n",
      "        Loads the euler package in the LaTeX preamble for handwritten style\n",
      "        fonts (http://www.ctan.org/pkg/euler).\n",
      "    forecolor: string, optional, default='Black'\n",
      "        DVI setting for foreground color.\n",
      "    backcolor: string, optional, default='Transparent'\n",
      "        DVI setting for background color.\n",
      "    fontsize: string, optional, default='10pt'\n",
      "        A font size to pass to the LaTeX documentclass function in the\n",
      "        preamble.\n",
      "    latex_mode: string, optional, default='equation*'\n",
      "        The mode used in the LaTeX printer. Can be one of:\n",
      "        {'inline'|'plain'|'equation'|'equation*'}.\n",
      "    print_builtin: boolean, optional, default=True\n",
      "        If true then floats and integers will be printed. If false the\n",
      "        printer will only print SymPy types.\n",
      "    str_printer: function, optional, default=None\n",
      "        A custom string printer function. This should mimic\n",
      "        sympy.printing.sstrrepr().\n",
      "    pretty_printer: function, optional, default=None\n",
      "        A custom pretty printer. This should mimic sympy.printing.pretty().\n",
      "    latex_printer: function, optional, default=None\n",
      "        A custom LaTeX printer. This should mimic sympy.printing.latex()\n",
      "        This should mimic sympy.printing.latex().\n",
      "    \n",
      "    Examples\n",
      "    ========\n",
      "    \n",
      "    >>> from sympy.interactive import init_printing\n",
      "    >>> from sympy import Symbol, sqrt\n",
      "    >>> from sympy.abc import x, y\n",
      "    >>> sqrt(5)\n",
      "    sqrt(5)\n",
      "    >>> init_printing(pretty_print=True) # doctest: +SKIP\n",
      "    >>> sqrt(5) # doctest: +SKIP\n",
      "      ___\n",
      "    \\/ 5\n",
      "    >>> theta = Symbol('theta') # doctest: +SKIP\n",
      "    >>> init_printing(use_unicode=True) # doctest: +SKIP\n",
      "    >>> theta # doctest: +SKIP\n",
      "    θ\n",
      "    >>> init_printing(use_unicode=False) # doctest: +SKIP\n",
      "    >>> theta # doctest: +SKIP\n",
      "    theta\n",
      "    >>> init_printing(order='lex') # doctest: +SKIP\n",
      "    >>> str(y + x + y**2 + x**2) # doctest: +SKIP\n",
      "    x**2 + x + y**2 + y\n",
      "    >>> init_printing(order='grlex') # doctest: +SKIP\n",
      "    >>> str(y + x + y**2 + x**2) # doctest: +SKIP\n",
      "    x**2 + x + y**2 + y\n",
      "    >>> init_printing(order='grevlex') # doctest: +SKIP\n",
      "    >>> str(y * x**2 + x * y**2) # doctest: +SKIP\n",
      "    x**2*y + x*y**2\n",
      "    >>> init_printing(order='old') # doctest: +SKIP\n",
      "    >>> str(x**2 + y**2 + x + y) # doctest: +SKIP\n",
      "    x**2 + x + y**2 + y\n",
      "    >>> init_printing(num_columns=10) # doctest: +SKIP\n",
      "    >>> x**2 + x + y**2 + y # doctest: +SKIP\n",
      "    x + y +\n",
      "    x**2 + y**2\n",
      "\n"
     ]
    }
   ],
   "source": [
    "help(sympy.init_printing)"
   ]
  },
  {
   "cell_type": "markdown",
   "metadata": {
    "slideshow": {
     "slide_type": "slide"
    }
   },
   "source": [
    "## Rearranging Equations\n",
    "\n",
    "SymPy can also handle sets of equations (`sympy.Eq` instances) to handle intermediate values or solve equations in terms of desired variables.  `Block` can catch up later."
   ]
  },
  {
   "cell_type": "markdown",
   "metadata": {
    "slideshow": {
     "slide_type": "skip"
    }
   },
   "source": [
    "Links: [Top](#Mathematical-Modeling-in-SymPy)\n",
    "[Intro](#SymPy-Introduction) \n",
    "[Text](#Convert-SymPy-equations-to-text)\n",
    "[LaTeX](#Convert-SymPy-equations-to-Latex)\n",
    "[Solver](#Rearranging-Equations)\n",
    "[Evaluating](#Evaluating-Expressions)\n",
    "[Designs](#Putting-Things-Together)\n",
    "[Help][]\n",
    "[Help]: #Help-(Doctrings)"
   ]
  },
  {
   "cell_type": "code",
   "execution_count": 29,
   "metadata": {
    "collapsed": false
   },
   "outputs": [
    {
     "data": {
      "image/png": "[encoded data removed]",
      "text/latex": [
       "$$\\left ( \\left ( x, \\quad y, \\quad \\theta\\right ), \\quad \\left ( x', \\quad y'\\right ), \\quad \\left ( x' = c x - s y, \\quad y' = c y + s x, \\quad c = \\cos{\\left (\\theta \\right )}, \\quad s = \\sin{\\left (\\theta \\right )}\\right )\\right )$$"
      ],
      "text/plain": [
       "((x, y, θ), (x', y'), (x' = c⋅x - s⋅y, y' = c⋅y + s⋅x, c = cos(θ), s = sin(θ))\n",
       ")"
      ]
     },
     "execution_count": 29,
     "metadata": {},
     "output_type": "execute_result"
    }
   ],
   "source": [
    "inputs='x y theta'\n",
    "outputs=\"x' y'\"\n",
    "expr='''\n",
    "x' = x*c - y*s\n",
    "y' = x*s + y*c\n",
    "c = cos(theta)\n",
    "s = sin(theta)\n",
    "'''\n",
    "\n",
    "ins2 = sympy.symbols(inputs)\n",
    "outs2 = sympy.symbols(outputs)\n",
    "hidden2 = sympy.symbols('c s')\n",
    "eqn2 = tuple(sympy.Eq(k,v) for k, v in parseExpr(expr))\n",
    "ins2, outs2, eqn2"
   ]
  },
  {
   "cell_type": "code",
   "execution_count": 30,
   "metadata": {
    "collapsed": false,
    "slideshow": {
     "slide_type": "-"
    }
   },
   "outputs": [
    {
     "data": {
      "image/png": "[encoded data removed]",
      "text/latex": [
       "$$\\left \\{ c : \\cos{\\left (\\theta \\right )}, \\quad s : \\sin{\\left (\\theta \\right )}, \\quad x' : x \\cos{\\left (\\theta \\right )} - y \\sin{\\left (\\theta \\right )}, \\quad y' : x \\sin{\\left (\\theta \\right )} + y \\cos{\\left (\\theta \\right )}\\right \\}$$"
      ],
      "text/plain": [
       "{c: cos(θ), s: sin(θ), x': x⋅cos(θ) - y⋅sin(θ), y': x⋅sin(θ) + y⋅cos(θ)}"
      ]
     },
     "execution_count": 30,
     "metadata": {},
     "output_type": "execute_result"
    }
   ],
   "source": [
    "sympy.solve(eqn2, outs2+hidden2)"
   ]
  },
  {
   "cell_type": "code",
   "execution_count": 31,
   "metadata": {
    "collapsed": false,
    "scrolled": true,
    "slideshow": {
     "slide_type": "subslide"
    }
   },
   "outputs": [
    {
     "name": "stdout",
     "output_type": "stream",
     "text": [
      "Help on function solve in module sympy.solvers.solvers:\n",
      "\n",
      "solve(f, *symbols, **flags)\n",
      "    Algebraically solves equations and systems of equations.\n",
      "    \n",
      "    Currently supported are:\n",
      "        - polynomial,\n",
      "        - transcendental\n",
      "        - piecewise combinations of the above\n",
      "        - systems of linear and polynomial equations\n",
      "        - sytems containing relational expressions.\n",
      "    \n",
      "    Input is formed as:\n",
      "    \n",
      "    * f\n",
      "        - a single Expr or Poly that must be zero,\n",
      "        - an Equality\n",
      "        - a Relational expression or boolean\n",
      "        - iterable of one or more of the above\n",
      "    \n",
      "    * symbols (object(s) to solve for) specified as\n",
      "        - none given (other non-numeric objects will be used)\n",
      "        - single symbol\n",
      "        - denested list of symbols\n",
      "          e.g. solve(f, x, y)\n",
      "        - ordered iterable of symbols\n",
      "          e.g. solve(f, [x, y])\n",
      "    \n",
      "    * flags\n",
      "        'dict'=True (default is False)\n",
      "            return list (perhaps empty) of solution mappings\n",
      "        'set'=True (default is False)\n",
      "            return list of symbols and set of tuple(s) of solution(s)\n",
      "        'exclude=[] (default)'\n",
      "            don't try to solve for any of the free symbols in exclude;\n",
      "            if expressions are given, the free symbols in them will\n",
      "            be extracted automatically.\n",
      "        'check=True (default)'\n",
      "            If False, don't do any testing of solutions. This can be\n",
      "            useful if one wants to include solutions that make any\n",
      "            denominator zero.\n",
      "        'numerical=True (default)'\n",
      "            do a fast numerical check if ``f`` has only one symbol.\n",
      "        'minimal=True (default is False)'\n",
      "            a very fast, minimal testing.\n",
      "        'warn=True (default is False)'\n",
      "            show a warning if checksol() could not conclude.\n",
      "        'simplify=True (default)'\n",
      "            simplify all but polynomials of order 3 or greater before\n",
      "            returning them and (if check is not False) use the\n",
      "            general simplify function on the solutions and the\n",
      "            expression obtained when they are substituted into the\n",
      "            function which should be zero\n",
      "        'force=True (default is False)'\n",
      "            make positive all symbols without assumptions regarding sign.\n",
      "        'rational=True (default)'\n",
      "            recast Floats as Rational; if this option is not used, the\n",
      "            system containing floats may fail to solve because of issues\n",
      "            with polys. If rational=None, Floats will be recast as\n",
      "            rationals but the answer will be recast as Floats. If the\n",
      "            flag is False then nothing will be done to the Floats.\n",
      "        'manual=True (default is False)'\n",
      "            do not use the polys/matrix method to solve a system of\n",
      "            equations, solve them one at a time as you might \"manually\"\n",
      "        'implicit=True (default is False)'\n",
      "            allows solve to return a solution for a pattern in terms of\n",
      "            other functions that contain that pattern; this is only\n",
      "            needed if the pattern is inside of some invertible function\n",
      "            like cos, exp, ....\n",
      "        'particular=True (default is False)'\n",
      "            instructs solve to try to find a particular solution to a linear\n",
      "            system with as many zeros as possible; this is very expensive\n",
      "        'quick=True (default is False)'\n",
      "            when using particular=True, use a fast heuristic instead to find a\n",
      "            solution with many zeros (instead of using the very slow method\n",
      "            guaranteed to find the largest number of zeros possible)\n",
      "        'cubics=True (default)'\n",
      "            return explicit solutions when cubic expressions are encountered\n",
      "        'quartics=True (default)'\n",
      "            return explicit solutions when quartic expressions are encountered\n",
      "        'quintics=True (default)'\n",
      "            return explicit solutions (if possible) when quintic expressions\n",
      "            are encountered\n",
      "    \n",
      "    Examples\n",
      "    ========\n",
      "    \n",
      "    The output varies according to the input and can be seen by example::\n",
      "    \n",
      "        >>> from sympy import solve, Poly, Eq, Function, exp\n",
      "        >>> from sympy.abc import x, y, z, a, b\n",
      "        >>> f = Function('f')\n",
      "    \n",
      "    * boolean or univariate Relational\n",
      "    \n",
      "        >>> solve(x < 3)\n",
      "        And(-oo < x, x < 3)\n",
      "    \n",
      "    * to always get a list of solution mappings, use flag dict=True\n",
      "    \n",
      "        >>> solve(x - 3, dict=True)\n",
      "        [{x: 3}]\n",
      "        >>> solve([x - 3, y - 1], dict=True)\n",
      "        [{x: 3, y: 1}]\n",
      "    \n",
      "    * to get a list of symbols and set of solution(s) use flag set=True\n",
      "    \n",
      "        >>> solve([x**2 - 3, y - 1], set=True)\n",
      "        ([x, y], set([(-sqrt(3), 1), (sqrt(3), 1)]))\n",
      "    \n",
      "    * single expression and single symbol that is in the expression\n",
      "    \n",
      "        >>> solve(x - y, x)\n",
      "        [y]\n",
      "        >>> solve(x - 3, x)\n",
      "        [3]\n",
      "        >>> solve(Eq(x, 3), x)\n",
      "        [3]\n",
      "        >>> solve(Poly(x - 3), x)\n",
      "        [3]\n",
      "        >>> solve(x**2 - y**2, x, set=True)\n",
      "        ([x], set([(-y,), (y,)]))\n",
      "        >>> solve(x**4 - 1, x, set=True)\n",
      "        ([x], set([(-1,), (1,), (-I,), (I,)]))\n",
      "    \n",
      "    * single expression with no symbol that is in the expression\n",
      "    \n",
      "        >>> solve(3, x)\n",
      "        []\n",
      "        >>> solve(x - 3, y)\n",
      "        []\n",
      "    \n",
      "    * single expression with no symbol given\n",
      "    \n",
      "          In this case, all free symbols will be selected as potential\n",
      "          symbols to solve for. If the equation is univariate then a list\n",
      "          of solutions is returned; otherwise -- as is the case when symbols are\n",
      "          given as an iterable of length > 1 -- a list of mappings will be returned.\n",
      "    \n",
      "            >>> solve(x - 3)\n",
      "            [3]\n",
      "            >>> solve(x**2 - y**2)\n",
      "            [{x: -y}, {x: y}]\n",
      "            >>> solve(z**2*x**2 - z**2*y**2)\n",
      "            [{x: -y}, {x: y}, {z: 0}]\n",
      "            >>> solve(z**2*x - z**2*y**2)\n",
      "            [{x: y**2}, {z: 0}]\n",
      "    \n",
      "    * when an object other than a Symbol is given as a symbol, it is\n",
      "      isolated algebraically and an implicit solution may be obtained.\n",
      "      This is mostly provided as a convenience to save one from replacing\n",
      "      the object with a Symbol and solving for that Symbol. It will only\n",
      "      work if the specified object can be replaced with a Symbol using the\n",
      "      subs method.\n",
      "    \n",
      "          >>> solve(f(x) - x, f(x))\n",
      "          [x]\n",
      "          >>> solve(f(x).diff(x) - f(x) - x, f(x).diff(x))\n",
      "          [x + f(x)]\n",
      "          >>> solve(f(x).diff(x) - f(x) - x, f(x))\n",
      "          [-x + Derivative(f(x), x)]\n",
      "          >>> solve(x + exp(x)**2, exp(x), set=True)\n",
      "          ([exp(x)], set([(-sqrt(-x),), (sqrt(-x),)]))\n",
      "    \n",
      "          >>> from sympy import Indexed, IndexedBase, Tuple, sqrt\n",
      "          >>> A = IndexedBase('A')\n",
      "          >>> eqs = Tuple(A[1] + A[2] - 3, A[1] - A[2] + 1)\n",
      "          >>> solve(eqs, eqs.atoms(Indexed))\n",
      "          {A[1]: 1, A[2]: 2}\n",
      "    \n",
      "        * To solve for a *symbol* implicitly, use 'implicit=True':\n",
      "    \n",
      "            >>> solve(x + exp(x), x)\n",
      "            [-LambertW(1)]\n",
      "            >>> solve(x + exp(x), x, implicit=True)\n",
      "            [-exp(x)]\n",
      "    \n",
      "        * It is possible to solve for anything that can be targeted with\n",
      "          subs:\n",
      "    \n",
      "            >>> solve(x + 2 + sqrt(3), x + 2)\n",
      "            [-sqrt(3)]\n",
      "            >>> solve((x + 2 + sqrt(3), x + 4 + y), y, x + 2)\n",
      "            {y: -2 + sqrt(3), x + 2: -sqrt(3)}\n",
      "    \n",
      "        * Nothing heroic is done in this implicit solving so you may end up\n",
      "          with a symbol still in the solution:\n",
      "    \n",
      "            >>> eqs = (x*y + 3*y + sqrt(3), x + 4 + y)\n",
      "            >>> solve(eqs, y, x + 2)\n",
      "            {y: -sqrt(3)/(x + 3), x + 2: (-2*x - 6 + sqrt(3))/(x + 3)}\n",
      "            >>> solve(eqs, y*x, x)\n",
      "            {x: -y - 4, x*y: -3*y - sqrt(3)}\n",
      "    \n",
      "        * if you attempt to solve for a number remember that the number\n",
      "          you have obtained does not necessarily mean that the value is\n",
      "          equivalent to the expression obtained:\n",
      "    \n",
      "            >>> solve(sqrt(2) - 1, 1)\n",
      "            [sqrt(2)]\n",
      "            >>> solve(x - y + 1, 1)  # /!\\ -1 is targeted, too\n",
      "            [x/(y - 1)]\n",
      "            >>> [_.subs(z, -1) for _ in solve((x - y + 1).subs(-1, z), 1)]\n",
      "            [-x + y]\n",
      "    \n",
      "        * To solve for a function within a derivative, use dsolve.\n",
      "    \n",
      "    * single expression and more than 1 symbol\n",
      "    \n",
      "        * when there is a linear solution\n",
      "    \n",
      "            >>> solve(x - y**2, x, y)\n",
      "            [{x: y**2}]\n",
      "            >>> solve(x**2 - y, x, y)\n",
      "            [{y: x**2}]\n",
      "    \n",
      "        * when undetermined coefficients are identified\n",
      "    \n",
      "            * that are linear\n",
      "    \n",
      "                >>> solve((a + b)*x - b + 2, a, b)\n",
      "                {a: -2, b: 2}\n",
      "    \n",
      "            * that are nonlinear\n",
      "    \n",
      "                >>> solve((a + b)*x - b**2 + 2, a, b, set=True)\n",
      "                ([a, b], set([(-sqrt(2), sqrt(2)), (sqrt(2), -sqrt(2))]))\n",
      "    \n",
      "        * if there is no linear solution then the first successful\n",
      "          attempt for a nonlinear solution will be returned\n",
      "    \n",
      "            >>> solve(x**2 - y**2, x, y)\n",
      "            [{x: -y}, {x: y}]\n",
      "            >>> solve(x**2 - y**2/exp(x), x, y)\n",
      "            [{x: 2*LambertW(y/2)}]\n",
      "            >>> solve(x**2 - y**2/exp(x), y, x)\n",
      "            [{y: -x*sqrt(exp(x))}, {y: x*sqrt(exp(x))}]\n",
      "    \n",
      "    * iterable of one or more of the above\n",
      "    \n",
      "        * involving relationals or bools\n",
      "    \n",
      "            >>> solve([x < 3, x - 2])\n",
      "            Eq(x, 2)\n",
      "            >>> solve([x > 3, x - 2])\n",
      "            False\n",
      "    \n",
      "        * when the system is linear\n",
      "    \n",
      "            * with a solution\n",
      "    \n",
      "                >>> solve([x - 3], x)\n",
      "                {x: 3}\n",
      "                >>> solve((x + 5*y - 2, -3*x + 6*y - 15), x, y)\n",
      "                {x: -3, y: 1}\n",
      "                >>> solve((x + 5*y - 2, -3*x + 6*y - 15), x, y, z)\n",
      "                {x: -3, y: 1}\n",
      "                >>> solve((x + 5*y - 2, -3*x + 6*y - z), z, x, y)\n",
      "                {x: -5*y + 2, z: 21*y - 6}\n",
      "    \n",
      "            * without a solution\n",
      "    \n",
      "                >>> solve([x + 3, x - 3])\n",
      "                []\n",
      "    \n",
      "        * when the system is not linear\n",
      "    \n",
      "            >>> solve([x**2 + y -2, y**2 - 4], x, y, set=True)\n",
      "            ([x, y], set([(-2, -2), (0, 2), (2, -2)]))\n",
      "    \n",
      "        * if no symbols are given, all free symbols will be selected and a list\n",
      "          of mappings returned\n",
      "    \n",
      "            >>> solve([x - 2, x**2 + y])\n",
      "            [{x: 2, y: -4}]\n",
      "            >>> solve([x - 2, x**2 + f(x)], set([f(x), x]))\n",
      "            [{x: 2, f(x): -4}]\n",
      "    \n",
      "        * if any equation doesn't depend on the symbol(s) given it will be\n",
      "          eliminated from the equation set and an answer may be given\n",
      "          implicitly in terms of variables that were not of interest\n",
      "    \n",
      "            >>> solve([x - y, y - 3], x)\n",
      "            {x: y}\n",
      "    \n",
      "    Notes\n",
      "    =====\n",
      "    \n",
      "    solve() with check=True (default) will run through the symbol tags to\n",
      "    elimate unwanted solutions.  If no assumptions are included all possible\n",
      "    solutions will be returned.\n",
      "    \n",
      "        >>> from sympy import Symbol, solve\n",
      "        >>> x = Symbol(\"x\")\n",
      "        >>> solve(x**2 - 1)\n",
      "        [-1, 1]\n",
      "    \n",
      "    By using the positive tag only one solution will be returned:\n",
      "    \n",
      "        >>> pos = Symbol(\"pos\", positive=True)\n",
      "        >>> solve(pos**2 - 1)\n",
      "        [1]\n",
      "    \n",
      "    \n",
      "    Assumptions aren't checked when `solve()` input involves\n",
      "    relationals or bools.\n",
      "    \n",
      "    When the solutions are checked, those that make any denominator zero\n",
      "    are automatically excluded. If you do not want to exclude such solutions\n",
      "    then use the check=False option:\n",
      "    \n",
      "        >>> from sympy import sin, limit\n",
      "        >>> solve(sin(x)/x)  # 0 is excluded\n",
      "        [pi]\n",
      "    \n",
      "    If check=False then a solution to the numerator being zero is found: x = 0.\n",
      "    In this case, this is a spurious solution since sin(x)/x has the well known\n",
      "    limit (without dicontinuity) of 1 at x = 0:\n",
      "    \n",
      "        >>> solve(sin(x)/x, check=False)\n",
      "        [0, pi]\n",
      "    \n",
      "    In the following case, however, the limit exists and is equal to the the\n",
      "    value of x = 0 that is excluded when check=True:\n",
      "    \n",
      "        >>> eq = x**2*(1/x - z**2/x)\n",
      "        >>> solve(eq, x)\n",
      "        []\n",
      "        >>> solve(eq, x, check=False)\n",
      "        [0]\n",
      "        >>> limit(eq, x, 0, '-')\n",
      "        0\n",
      "        >>> limit(eq, x, 0, '+')\n",
      "        0\n",
      "    \n",
      "    Disabling high-order, explicit solutions\n",
      "    ----------------------------------------\n",
      "    \n",
      "    When solving polynomial expressions, one might not want explicit solutions\n",
      "    (which can be quite long). If the expression is univariate, CRootOf\n",
      "    instances will be returned instead:\n",
      "    \n",
      "        >>> solve(x**3 - x + 1)\n",
      "        [-1/((-1/2 - sqrt(3)*I/2)*(3*sqrt(69)/2 + 27/2)**(1/3)) - (-1/2 -\n",
      "        sqrt(3)*I/2)*(3*sqrt(69)/2 + 27/2)**(1/3)/3, -(-1/2 +\n",
      "        sqrt(3)*I/2)*(3*sqrt(69)/2 + 27/2)**(1/3)/3 - 1/((-1/2 +\n",
      "        sqrt(3)*I/2)*(3*sqrt(69)/2 + 27/2)**(1/3)), -(3*sqrt(69)/2 +\n",
      "        27/2)**(1/3)/3 - 1/(3*sqrt(69)/2 + 27/2)**(1/3)]\n",
      "        >>> solve(x**3 - x + 1, cubics=False)\n",
      "        [CRootOf(x**3 - x + 1, 0),\n",
      "         CRootOf(x**3 - x + 1, 1),\n",
      "         CRootOf(x**3 - x + 1, 2)]\n",
      "    \n",
      "        If the expression is multivariate, no solution might be returned:\n",
      "    \n",
      "        >>> solve(x**3 - x + a, x, cubics=False)\n",
      "        []\n",
      "    \n",
      "    Sometimes solutions will be obtained even when a flag is False because the\n",
      "    expression could be factored. In the following example, the equation can\n",
      "    be factored as the product of a linear and a quadratic factor so explicit\n",
      "    solutions (which did not require solving a cubic expression) are obtained:\n",
      "    \n",
      "        >>> eq = x**3 + 3*x**2 + x - 1\n",
      "        >>> solve(eq, cubics=False)\n",
      "        [-1, -1 + sqrt(2), -sqrt(2) - 1]\n",
      "    \n",
      "    Solving equations involving radicals\n",
      "    ------------------------------------\n",
      "    \n",
      "    Because of SymPy's use of the principle root (issue #8789), some solutions\n",
      "    to radical equations will be missed unless check=False:\n",
      "    \n",
      "        >>> from sympy import root\n",
      "        >>> eq = root(x**3 - 3*x**2, 3) + 1 - x\n",
      "        >>> solve(eq)\n",
      "        []\n",
      "        >>> solve(eq, check=False)\n",
      "        [1/3]\n",
      "    \n",
      "    In the above example there is only a single solution to the equation. Other\n",
      "    expressions will yield spurious roots which must be checked manually;\n",
      "    roots which give a negative argument to odd-powered radicals will also need\n",
      "    special checking:\n",
      "    \n",
      "        >>> from sympy import real_root, S\n",
      "        >>> eq = root(x, 3) - root(x, 5) + S(1)/7\n",
      "        >>> solve(eq)  # this gives 2 solutions but misses a 3rd\n",
      "        [CRootOf(7*_p**5 - 7*_p**3 + 1, 1)**15,\n",
      "        CRootOf(7*_p**5 - 7*_p**3 + 1, 2)**15]\n",
      "        >>> sol = solve(eq, check=False)\n",
      "        >>> [abs(eq.subs(x,i).n(2)) for i in sol]\n",
      "        [0.48, 0.e-110, 0.e-110, 0.052, 0.052]\n",
      "    \n",
      "        The first solution is negative so real_root must be used to see that\n",
      "        it satisfies the expression:\n",
      "    \n",
      "        >>> abs(real_root(eq.subs(x, sol[0])).n(2))\n",
      "        0.e-110\n",
      "    \n",
      "    If the roots of the equation are not real then more care will be necessary\n",
      "    to find the roots, especially for higher order equations. Consider the\n",
      "    following expression:\n",
      "    \n",
      "        >>> expr = root(x, 3) - root(x, 5)\n",
      "    \n",
      "    We will construct a known value for this expression at x = 3 by selecting\n",
      "    the 1-th root for each radical:\n",
      "    \n",
      "        >>> expr1 = root(x, 3, 1) - root(x, 5, 1)\n",
      "        >>> v = expr1.subs(x, -3)\n",
      "    \n",
      "    The solve function is unable to find any exact roots to this equation:\n",
      "    \n",
      "        >>> eq = Eq(expr, v); eq1 = Eq(expr1, v)\n",
      "        >>> solve(eq, check=False), solve(eq1, check=False)\n",
      "        ([], [])\n",
      "    \n",
      "    The function unrad, however, can be used to get a form of the equation for\n",
      "    which numerical roots can be found:\n",
      "    \n",
      "        >>> from sympy.solvers.solvers import unrad\n",
      "        >>> from sympy import nroots\n",
      "        >>> e, (p, cov) = unrad(eq)\n",
      "        >>> pvals = nroots(e)\n",
      "        >>> inversion = solve(cov, x)[0]\n",
      "        >>> xvals = [inversion.subs(p, i) for i in pvals]\n",
      "    \n",
      "    Although eq or eq1 could have been used to find xvals, the solution can\n",
      "    only be verified with expr1:\n",
      "    \n",
      "        >>> z = expr - v\n",
      "        >>> [xi.n(chop=1e-9) for xi in xvals if abs(z.subs(x, xi).n()) < 1e-9]\n",
      "        []\n",
      "        >>> z1 = expr1 - v\n",
      "        >>> [xi.n(chop=1e-9) for xi in xvals if abs(z1.subs(x, xi).n()) < 1e-9]\n",
      "        [-3.0]\n",
      "    \n",
      "    See Also\n",
      "    ========\n",
      "    \n",
      "        - rsolve() for solving recurrence relationships\n",
      "        - dsolve() for solving differential equations\n",
      "\n"
     ]
    }
   ],
   "source": [
    "help(sympy.solve)"
   ]
  },
  {
   "cell_type": "markdown",
   "metadata": {
    "slideshow": {
     "slide_type": "slide"
    }
   },
   "source": [
    "## Evaluating Expressions\n",
    "\n",
    "SymPy can evaluate equations symbolically (`.subs` function) or numerically (`.evalf` function), at specified level of precision."
   ]
  },
  {
   "cell_type": "markdown",
   "metadata": {
    "slideshow": {
     "slide_type": "skip"
    }
   },
   "source": [
    "Links: [Top](#Mathematical-Modeling-in-SymPy)\n",
    "[Intro](#SymPy-Introduction) \n",
    "[Text](#Convert-SymPy-equations-to-text)\n",
    "[LaTeX](#Convert-SymPy-equations-to-Latex)\n",
    "[Solver](#Rearranging-Equations)\n",
    "[Evaluating](#Evaluating-Expressions)\n",
    "[Designs](#Putting-Things-Together)\n",
    "[Help][]\n",
    "[Help]: #Help-(Doctrings)"
   ]
  },
  {
   "cell_type": "code",
   "execution_count": 32,
   "metadata": {
    "collapsed": false
   },
   "outputs": [
    {
     "data": {
      "image/png": "[encoded data removed]",
      "text/latex": [
       "$$- \\sin{\\left (45 \\right )} + \\cos{\\left (45 \\right )}$$"
      ],
      "text/plain": [
       "-sin(45) + cos(45)"
      ]
     },
     "execution_count": 32,
     "metadata": {},
     "output_type": "execute_result"
    }
   ],
   "source": [
    "x = sympy.Symbol(\"x'\")\n",
    "eqn[x].subs(zip(ins, (1, 1, 45)))"
   ]
  },
  {
   "cell_type": "code",
   "execution_count": 33,
   "metadata": {
    "collapsed": false
   },
   "outputs": [
    {
     "data": {
      "image/png": "[encoded data removed]",
      "text/latex": [
       "$$-0.3256$$"
      ],
      "text/plain": [
       "-0.3256"
      ]
     },
     "execution_count": 33,
     "metadata": {},
     "output_type": "execute_result"
    }
   ],
   "source": [
    "eqn[x].evalf(4, subs=dict(zip(ins, (1, 1, 45))))"
   ]
  },
  {
   "cell_type": "code",
   "execution_count": 34,
   "metadata": {
    "collapsed": false,
    "slideshow": {
     "slide_type": "skip"
    }
   },
   "outputs": [
    {
     "data": {
      "image/png": "[encoded data removed]",
      "text/latex": [
       "$$-0.325581535716$$"
      ],
      "text/plain": [
       "-0.325581535716"
      ]
     },
     "execution_count": 34,
     "metadata": {},
     "output_type": "execute_result"
    }
   ],
   "source": [
    "# sanity check with NumPy\n",
    "import numpy as np\n",
    "-1*np.sin(45) + np.cos(45)"
   ]
  },
  {
   "cell_type": "code",
   "execution_count": 35,
   "metadata": {
    "collapsed": false,
    "slideshow": {
     "slide_type": "skip"
    }
   },
   "outputs": [
    {
     "name": "stdout",
     "output_type": "stream",
     "text": [
      "1.41421356237310\n",
      "1.41421356237309504880168872420969807856967187537694807317668\n"
     ]
    }
   ],
   "source": [
    "e = sympy.sympify('sqrt(x)')\n",
    "print(e.evalf(subs={'x':2}))\n",
    "print(e.evalf(60, subs={'x':2}))"
   ]
  },
  {
   "cell_type": "code",
   "execution_count": 36,
   "metadata": {
    "collapsed": false
   },
   "outputs": [
    {
     "name": "stdout",
     "output_type": "stream",
     "text": [
      "3.14159265358979\n",
      "3.141592653589793238462643383279502884197169399375105820974944592307816406286208998628034825342117068\n"
     ]
    }
   ],
   "source": [
    "print(sympy.pi.evalf())\n",
    "print(sympy.pi.evalf(100))"
   ]
  },
  {
   "cell_type": "code",
   "execution_count": 37,
   "metadata": {
    "collapsed": false,
    "scrolled": true,
    "slideshow": {
     "slide_type": "subslide"
    }
   },
   "outputs": [
    {
     "name": "stdout",
     "output_type": "stream",
     "text": [
      "Help on method subs in module sympy.core.basic:\n",
      "\n",
      "subs(*args, **kwargs) method of sympy.core.add.Add instance\n",
      "    Substitutes old for new in an expression after sympifying args.\n",
      "    \n",
      "    `args` is either:\n",
      "      - two arguments, e.g. foo.subs(old, new)\n",
      "      - one iterable argument, e.g. foo.subs(iterable). The iterable may be\n",
      "         o an iterable container with (old, new) pairs. In this case the\n",
      "           replacements are processed in the order given with successive\n",
      "           patterns possibly affecting replacements already made.\n",
      "         o a dict or set whose key/value items correspond to old/new pairs.\n",
      "           In this case the old/new pairs will be sorted by op count and in\n",
      "           case of a tie, by number of args and the default_sort_key. The\n",
      "           resulting sorted list is then processed as an iterable container\n",
      "           (see previous).\n",
      "    \n",
      "    If the keyword ``simultaneous`` is True, the subexpressions will not be\n",
      "    evaluated until all the substitutions have been made.\n",
      "    \n",
      "    Examples\n",
      "    ========\n",
      "    \n",
      "    >>> from sympy import pi, exp, limit, oo\n",
      "    >>> from sympy.abc import x, y\n",
      "    >>> (1 + x*y).subs(x, pi)\n",
      "    pi*y + 1\n",
      "    >>> (1 + x*y).subs({x:pi, y:2})\n",
      "    1 + 2*pi\n",
      "    >>> (1 + x*y).subs([(x, pi), (y, 2)])\n",
      "    1 + 2*pi\n",
      "    >>> reps = [(y, x**2), (x, 2)]\n",
      "    >>> (x + y).subs(reps)\n",
      "    6\n",
      "    >>> (x + y).subs(reversed(reps))\n",
      "    x**2 + 2\n",
      "    \n",
      "    >>> (x**2 + x**4).subs(x**2, y)\n",
      "    y**2 + y\n",
      "    \n",
      "    To replace only the x**2 but not the x**4, use xreplace:\n",
      "    \n",
      "    >>> (x**2 + x**4).xreplace({x**2: y})\n",
      "    x**4 + y\n",
      "    \n",
      "    To delay evaluation until all substitutions have been made,\n",
      "    set the keyword ``simultaneous`` to True:\n",
      "    \n",
      "    >>> (x/y).subs([(x, 0), (y, 0)])\n",
      "    0\n",
      "    >>> (x/y).subs([(x, 0), (y, 0)], simultaneous=True)\n",
      "    nan\n",
      "    \n",
      "    This has the added feature of not allowing subsequent substitutions\n",
      "    to affect those already made:\n",
      "    \n",
      "    >>> ((x + y)/y).subs({x + y: y, y: x + y})\n",
      "    1\n",
      "    >>> ((x + y)/y).subs({x + y: y, y: x + y}, simultaneous=True)\n",
      "    y/(x + y)\n",
      "    \n",
      "    In order to obtain a canonical result, unordered iterables are\n",
      "    sorted by count_op length, number of arguments and by the\n",
      "    default_sort_key to break any ties. All other iterables are left\n",
      "    unsorted.\n",
      "    \n",
      "    >>> from sympy import sqrt, sin, cos\n",
      "    >>> from sympy.abc import a, b, c, d, e\n",
      "    \n",
      "    >>> A = (sqrt(sin(2*x)), a)\n",
      "    >>> B = (sin(2*x), b)\n",
      "    >>> C = (cos(2*x), c)\n",
      "    >>> D = (x, d)\n",
      "    >>> E = (exp(x), e)\n",
      "    \n",
      "    >>> expr = sqrt(sin(2*x))*sin(exp(x)*x)*cos(2*x) + sin(2*x)\n",
      "    \n",
      "    >>> expr.subs(dict([A, B, C, D, E]))\n",
      "    a*c*sin(d*e) + b\n",
      "    \n",
      "    The resulting expression represents a literal replacement of the\n",
      "    old arguments with the new arguments. This may not reflect the\n",
      "    limiting behavior of the expression:\n",
      "    \n",
      "    >>> (x**3 - 3*x).subs({x: oo})\n",
      "    nan\n",
      "    \n",
      "    >>> limit(x**3 - 3*x, x, oo)\n",
      "    oo\n",
      "    \n",
      "    If the substitution will be followed by numerical\n",
      "    evaluation, it is better to pass the substitution to\n",
      "    evalf as\n",
      "    \n",
      "    >>> (1/x).evalf(subs={x: 3.0}, n=21)\n",
      "    0.333333333333333333333\n",
      "    \n",
      "    rather than\n",
      "    \n",
      "    >>> (1/x).subs({x: 3.0}).evalf(21)\n",
      "    0.333333333333333314830\n",
      "    \n",
      "    as the former will ensure that the desired level of precision is\n",
      "    obtained.\n",
      "    \n",
      "    See Also\n",
      "    ========\n",
      "    replace: replacement capable of doing wildcard-like matching,\n",
      "             parsing of match, and conditional replacements\n",
      "    xreplace: exact node replacement in expr tree; also capable of\n",
      "              using matching rules\n",
      "    evalf: calculates the given formula to a desired level of precision\n",
      "\n"
     ]
    }
   ],
   "source": [
    "help(eqn[x].subs)"
   ]
  },
  {
   "cell_type": "code",
   "execution_count": 38,
   "metadata": {
    "collapsed": false,
    "scrolled": true,
    "slideshow": {
     "slide_type": "subslide"
    }
   },
   "outputs": [
    {
     "name": "stdout",
     "output_type": "stream",
     "text": [
      "Help on method evalf in module sympy.core.evalf:\n",
      "\n",
      "evalf(n=15, subs=None, maxn=100, chop=False, strict=False, quad=None, verbose=False) method of sympy.core.add.Add instance\n",
      "    Evaluate the given formula to an accuracy of n digits.\n",
      "    Optional keyword arguments:\n",
      "    \n",
      "        subs=<dict>\n",
      "            Substitute numerical values for symbols, e.g.\n",
      "            subs={x:3, y:1+pi}. The substitutions must be given as a\n",
      "            dictionary.\n",
      "    \n",
      "        maxn=<integer>\n",
      "            Allow a maximum temporary working precision of maxn digits\n",
      "            (default=100)\n",
      "    \n",
      "        chop=<bool>\n",
      "            Replace tiny real or imaginary parts in subresults\n",
      "            by exact zeros (default=False)\n",
      "    \n",
      "        strict=<bool>\n",
      "            Raise PrecisionExhausted if any subresult fails to evaluate\n",
      "            to full accuracy, given the available maxprec\n",
      "            (default=False)\n",
      "    \n",
      "        quad=<str>\n",
      "            Choose algorithm for numerical quadrature. By default,\n",
      "            tanh-sinh quadrature is used. For oscillatory\n",
      "            integrals on an infinite interval, try quad='osc'.\n",
      "    \n",
      "        verbose=<bool>\n",
      "            Print debug information (default=False)\n",
      "\n"
     ]
    }
   ],
   "source": [
    "help(eqn[x].evalf)"
   ]
  },
  {
   "cell_type": "markdown",
   "metadata": {
    "slideshow": {
     "slide_type": "slide"
    }
   },
   "source": [
    "### Compiling Expressions\n",
    "For efficiency, `sympy.lambdify` is preferred for numerical analysis. It supports mathematical functions from [`math`](https://docs.python.org/3/library/math.html#module-math), [`sympy.Function`](http://docs.sympy.org/latest/modules/functions/index.html#contents), or [`mpmath`](http://mpmath.org/doc/current/functions/index.html).  Since these library functions are compiled Python, C, or even Fortran, they are significantly faster than `sympy.evalf`."
   ]
  },
  {
   "cell_type": "code",
   "execution_count": 39,
   "metadata": {
    "collapsed": false
   },
   "outputs": [
    {
     "name": "stdout",
     "output_type": "stream",
     "text": [
      "The slowest run took 16.35 times longer than the fastest. This could mean that an intermediate result is being cached.\n",
      "100000 loops, best of 3: 4.22 µs per loop\n"
     ]
    }
   ],
   "source": [
    "rad=np.linspace(0, np.pi, 8+1)\n",
    "f = sympy.lambdify(ins, eqn[x], 'numpy')\n",
    "%timeit f(1,0,rad)"
   ]
  },
  {
   "cell_type": "code",
   "execution_count": 40,
   "metadata": {
    "collapsed": false
   },
   "outputs": [
    {
     "name": "stdout",
     "output_type": "stream",
     "text": [
      "10 loops, best of 3: 85.5 ms per loop\n"
     ]
    }
   ],
   "source": [
    "%%timeit \n",
    "for i in rad: # evalf doesn't support arrays!\n",
    "    eqn[x].evalf(subs={'x':1.0,'y':0.0,'theta':i})"
   ]
  },
  {
   "cell_type": "markdown",
   "metadata": {},
   "source": [
    "SymPy also supports `uFuncify` for generating binary functions (using f2py and Cython) and `Theano` for GPU support. These options are discussed in the [SymPy documentation](http://docs.sympy.org/latest/modules/numeric-computation.html)."
   ]
  },
  {
   "cell_type": "code",
   "execution_count": 41,
   "metadata": {
    "collapsed": false,
    "scrolled": true,
    "slideshow": {
     "slide_type": "subslide"
    }
   },
   "outputs": [
    {
     "name": "stdout",
     "output_type": "stream",
     "text": [
      "Help on function lambdify in module sympy.utilities.lambdify:\n",
      "\n",
      "lambdify(args, expr, modules=None, printer=None, use_imps=True, dummify=True)\n",
      "    Returns a lambda function for fast calculation of numerical values.\n",
      "    \n",
      "    If not specified differently by the user, SymPy functions are replaced as\n",
      "    far as possible by either python-math, numpy (if available) or mpmath\n",
      "    functions - exactly in this order. To change this behavior, the \"modules\"\n",
      "    argument can be used. It accepts:\n",
      "    \n",
      "     - the strings \"math\", \"mpmath\", \"numpy\", \"numexpr\", \"sympy\"\n",
      "     - any modules (e.g. math)\n",
      "     - dictionaries that map names of sympy functions to arbitrary functions\n",
      "     - lists that contain a mix of the arguments above, with higher priority\n",
      "       given to entries appearing first.\n",
      "    \n",
      "    The default behavior is to substitute all arguments in the provided\n",
      "    expression with dummy symbols. This allows for applied functions (e.g.\n",
      "    f(t)) to be supplied as arguments. Call the function with dummify=False if\n",
      "    dummy substitution is unwanted (and `args` is not a string). If you want\n",
      "    to view the lambdified function or provide \"sympy\" as the module, you\n",
      "    should probably set dummify=False.\n",
      "    \n",
      "    For functions involving large array calculations, numexpr can provide a\n",
      "    significant speedup over numpy.  Please note that the available functions\n",
      "    for numexpr are more limited than numpy but can be expanded with\n",
      "    implemented_function and user defined subclasses of Function.  If specified,\n",
      "    numexpr may be the only option in modules. The official list of numexpr\n",
      "    functions can be found at:\n",
      "    https://github.com/pydata/numexpr#supported-functions\n",
      "    \n",
      "    In previous releases ``lambdify`` replaced ``Matrix`` with ``numpy.matrix``\n",
      "    by default. As of release 1.0 ``numpy.array`` is the default.\n",
      "    To get the old default behavior you must pass in ``[{'ImmutableMatrix':\n",
      "    numpy.matrix}, 'numpy']`` to the ``modules`` kwarg.\n",
      "    \n",
      "    >>> from sympy import lambdify, Matrix\n",
      "    >>> from sympy.abc import x, y\n",
      "    >>> import numpy\n",
      "    >>> array2mat = [{'ImmutableMatrix': numpy.matrix}, 'numpy']\n",
      "    >>> f = lambdify((x, y), Matrix([x, y]), modules=array2mat)\n",
      "    >>> f(1, 2)\n",
      "    matrix([[1],\n",
      "            [2]])\n",
      "    \n",
      "    Usage\n",
      "    =====\n",
      "    \n",
      "    (1) Use one of the provided modules:\n",
      "    \n",
      "        >>> from sympy import sin, tan, gamma\n",
      "        >>> from sympy.utilities.lambdify import lambdastr\n",
      "        >>> from sympy.abc import x, y\n",
      "        >>> f = lambdify(x, sin(x), \"math\")\n",
      "    \n",
      "        Attention: Functions that are not in the math module will throw a name\n",
      "                   error when the lambda function is evaluated! So this would\n",
      "                   be better:\n",
      "    \n",
      "        >>> f = lambdify(x, sin(x)*gamma(x), (\"math\", \"mpmath\", \"sympy\"))\n",
      "    \n",
      "    (2) Use some other module:\n",
      "    \n",
      "        >>> import numpy\n",
      "        >>> f = lambdify((x,y), tan(x*y), numpy)\n",
      "    \n",
      "        Attention: There are naming differences between numpy and sympy. So if\n",
      "                   you simply take the numpy module, e.g. sympy.atan will not be\n",
      "                   translated to numpy.arctan. Use the modified module instead\n",
      "                   by passing the string \"numpy\":\n",
      "    \n",
      "        >>> f = lambdify((x,y), tan(x*y), \"numpy\")\n",
      "        >>> f(1, 2)\n",
      "        -2.18503986326\n",
      "        >>> from numpy import array\n",
      "        >>> f(array([1, 2, 3]), array([2, 3, 5]))\n",
      "        [-2.18503986 -0.29100619 -0.8559934 ]\n",
      "    \n",
      "    (3) Use a dictionary defining custom functions:\n",
      "    \n",
      "        >>> def my_cool_function(x): return 'sin(%s) is cool' % x\n",
      "        >>> myfuncs = {\"sin\" : my_cool_function}\n",
      "        >>> f = lambdify(x, sin(x), myfuncs); f(1)\n",
      "        'sin(1) is cool'\n",
      "    \n",
      "    Examples\n",
      "    ========\n",
      "    \n",
      "    >>> from sympy.utilities.lambdify import implemented_function\n",
      "    >>> from sympy import sqrt, sin, Matrix\n",
      "    >>> from sympy import Function\n",
      "    >>> from sympy.abc import w, x, y, z\n",
      "    \n",
      "    >>> f = lambdify(x, x**2)\n",
      "    >>> f(2)\n",
      "    4\n",
      "    >>> f = lambdify((x, y, z), [z, y, x])\n",
      "    >>> f(1,2,3)\n",
      "    [3, 2, 1]\n",
      "    >>> f = lambdify(x, sqrt(x))\n",
      "    >>> f(4)\n",
      "    2.0\n",
      "    >>> f = lambdify((x, y), sin(x*y)**2)\n",
      "    >>> f(0, 5)\n",
      "    0.0\n",
      "    >>> row = lambdify((x, y), Matrix((x, x + y)).T, modules='sympy')\n",
      "    >>> row(1, 2)\n",
      "    Matrix([[1, 3]])\n",
      "    \n",
      "    Tuple arguments are handled and the lambdified function should\n",
      "    be called with the same type of arguments as were used to create\n",
      "    the function.:\n",
      "    \n",
      "    >>> f = lambdify((x, (y, z)), x + y)\n",
      "    >>> f(1, (2, 4))\n",
      "    3\n",
      "    \n",
      "    A more robust way of handling this is to always work with flattened\n",
      "    arguments:\n",
      "    \n",
      "    >>> from sympy.utilities.iterables import flatten\n",
      "    >>> args = w, (x, (y, z))\n",
      "    >>> vals = 1, (2, (3, 4))\n",
      "    >>> f = lambdify(flatten(args), w + x + y + z)\n",
      "    >>> f(*flatten(vals))\n",
      "    10\n",
      "    \n",
      "    Functions present in `expr` can also carry their own numerical\n",
      "    implementations, in a callable attached to the ``_imp_``\n",
      "    attribute.  Usually you attach this using the\n",
      "    ``implemented_function`` factory:\n",
      "    \n",
      "    >>> f = implemented_function(Function('f'), lambda x: x+1)\n",
      "    >>> func = lambdify(x, f(x))\n",
      "    >>> func(4)\n",
      "    5\n",
      "    \n",
      "    ``lambdify`` always prefers ``_imp_`` implementations to implementations\n",
      "    in other namespaces, unless the ``use_imps`` input parameter is False.\n",
      "\n"
     ]
    }
   ],
   "source": [
    "help(sympy.lambdify)"
   ]
  },
  {
   "cell_type": "markdown",
   "metadata": {
    "slideshow": {
     "slide_type": "slide"
    }
   },
   "source": [
    "Note that `sympy.lambdify` also supports custom functions (e.g. conditional operations or reshaping arrays).  These custom functions can also be optimized for computing as easily as including a `@jit` decorator from the [numba](http://numba.pydata.org/) library."
   ]
  },
  {
   "cell_type": "code",
   "execution_count": 42,
   "metadata": {
    "collapsed": false
   },
   "outputs": [
    {
     "name": "stdout",
     "output_type": "stream",
     "text": [
      "[   0.   20.   40.   60.   80.  100.  120.  140.  160.  180.]\n"
     ]
    }
   ],
   "source": [
    "def my_sample(x):\n",
    "    r = len(x) >> 1\n",
    "    return np.reshape(x[:2*r], (r,2))\n",
    "\n",
    "x = np.linspace(0, np.pi, 9+1)\n",
    "print(x*180/np.pi) # degrees"
   ]
  },
  {
   "cell_type": "code",
   "execution_count": 43,
   "metadata": {
    "collapsed": false,
    "slideshow": {
     "slide_type": "skip"
    }
   },
   "outputs": [
    {
     "name": "stdout",
     "output_type": "stream",
     "text": [
      "sample(x) + 1\n"
     ]
    },
    {
     "data": {
      "text/plain": [
       "array([[ 1.        ,  1.34906585],\n",
       "       [ 1.6981317 ,  2.04719755],\n",
       "       [ 2.3962634 ,  2.74532925],\n",
       "       [ 3.0943951 ,  3.44346095],\n",
       "       [ 3.7925268 ,  4.14159265]])"
      ]
     },
     "execution_count": 43,
     "metadata": {},
     "output_type": "execute_result"
    }
   ],
   "source": [
    "e = sympy.sympify('1+sample(x)')\n",
    "print(e)\n",
    "\n",
    "f = sympy.lambdify(sympy.Symbol('x'), e, {'sample':my_sample})\n",
    "f(x)"
   ]
  },
  {
   "cell_type": "code",
   "execution_count": 44,
   "metadata": {
    "collapsed": false
   },
   "outputs": [
    {
     "data": {
      "text/plain": [
       "array([[ 1.        ,  0.93969262],\n",
       "       [ 0.76604444,  0.5       ],\n",
       "       [ 0.17364818, -0.17364818],\n",
       "       [-0.5       , -0.76604444],\n",
       "       [-0.93969262, -1.        ]])"
      ]
     },
     "execution_count": 44,
     "metadata": {},
     "output_type": "execute_result"
    }
   ],
   "source": [
    "f = sympy.lambdify(sympy.Symbol('x'),               # inputs\n",
    "                   sympy.sympify('sample(cos(x))'), # expressions\n",
    "                   ('numpy', {'sample':my_sample})) # functions\n",
    "# Note: Can also use empty function dictionary for consistency\n",
    "f(x)"
   ]
  },
  {
   "cell_type": "markdown",
   "metadata": {
    "slideshow": {
     "slide_type": "slide"
    }
   },
   "source": [
    "However, the documentation could be better.  (_Earlier versions didn't even include the expresion._)"
   ]
  },
  {
   "cell_type": "code",
   "execution_count": 45,
   "metadata": {
    "collapsed": false
   },
   "outputs": [
    {
     "name": "stdout",
     "output_type": "stream",
     "text": [
      "Help on function <lambda> in module numpy:\n",
      "\n",
      "<lambda> lambda _Dummy_26\n",
      "    Created with lambdify. Signature:\n",
      "    \n",
      "    func(x)\n",
      "    \n",
      "    Expression:\n",
      "    \n",
      "    sample(cos(x))\n",
      "\n"
     ]
    }
   ],
   "source": [
    "help(f)"
   ]
  },
  {
   "cell_type": "markdown",
   "metadata": {},
   "source": [
    "For more control over the output function, including the `__doc__`, `__name__`, and `__signature__` attributes used by the `help` function, let's revisit the Block class to wrap the functionality seen so far."
   ]
  },
  {
   "cell_type": "markdown",
   "metadata": {
    "slideshow": {
     "slide_type": "slide"
    }
   },
   "source": [
    "## All together now\n",
    "\n",
    "As we've seen, all the information is available for a more informative way to manipulate and evaluate systems of equations."
   ]
  },
  {
   "cell_type": "code",
   "execution_count": 47,
   "metadata": {
    "collapsed": false
   },
   "outputs": [
    {
     "name": "stdout",
     "output_type": "stream",
     "text": [
      "Creating Block(expr=\"c = cos(theta)\\ns = sin(theta)\\nx' = x*c - y*s\\ny' = x*s + y*c\\n\", name='2-D Rotate', inputs='x y theta', outputs=\"x' y'\", functions={})\n",
      "outs=(c, s, x', y')\n",
      "\n",
      " {'eval': <function <lambda> at 0x000002861C81B9D8>, 'user': {}, 'lambdas': {}, 'hidden': (c, s), 'ins': (x, y, theta), 'eqn': (Eq(c, cos(theta)), Eq(s, sin(theta)), Eq(x', c*x - s*y), Eq(y', c*y + s*x)), 'args': (s, y, c, theta, x), 'outs': (x', y'), 'func': (cos, sin), 'name': '2-D Rotate'}\n"
     ]
    }
   ],
   "source": [
    "b2 = Block('''c = cos(theta)\n",
    "s = sin(theta)\n",
    "x' = x*c - y*s\n",
    "y' = x*s + y*c\n",
    "''', '2-D Rotate', 'x y theta', \"x' y'\")\n",
    "print('\\n',vars(b2))"
   ]
  },
  {
   "cell_type": "markdown",
   "metadata": {
    "slideshow": {
     "slide_type": "subslide"
    }
   },
   "source": [
    "When it comes to function arguments, Python 3.5 has had a lot of development beyond Python 2.7.  Since the `Block` code was originally developed in Python 2.7, let's replace those \\_Dummy arguments from `sympy.lambdify`."
   ]
  },
  {
   "cell_type": "code",
   "execution_count": 48,
   "metadata": {
    "collapsed": false,
    "scrolled": true
   },
   "outputs": [
    {
     "name": "stdout",
     "output_type": "stream",
     "text": [
      "Compiling Block '2-D Rotate' expressions:\n",
      "Solving equations for unknowns: (x', y', c, s)\n",
      "(Eq(c, cos(theta)), Eq(s, sin(theta)), Eq(x', c*x - s*y), Eq(y', c*y + s*x))\n",
      " = [{s: sin(theta), c: cos(theta), x': x*cos(theta) - y*sin(theta), y': x*sin(theta) + y*cos(theta)}] \n",
      "\n",
      "  x' = sympy.lambdify((x, y, theta), x*cos(theta) - y*sin(theta), '('numpy', [])')\n",
      "  y' = sympy.lambdify((x, y, theta), x*sin(theta) + y*cos(theta), '('numpy', [])')\n"
     ]
    }
   ],
   "source": [
    "f = b2.lambdify()"
   ]
  },
  {
   "cell_type": "code",
   "execution_count": 49,
   "metadata": {
    "collapsed": false
   },
   "outputs": [
    {
     "name": "stdout",
     "output_type": "stream",
     "text": [
      "Help on function Block(2-D Rotate).lambdas[x'] in Block(2-D Rotate):\n",
      "\n",
      "Block(2-D Rotate).lambdas[x'](_Dummy_34, _Dummy_35, _Dummy_36)\n",
      "    x' = x*cos(theta) - y*sin(theta)\n",
      "\n"
     ]
    }
   ],
   "source": [
    "help(f[\"x'\"])"
   ]
  },
  {
   "cell_type": "code",
   "execution_count": 50,
   "metadata": {
    "collapsed": false,
    "slideshow": {
     "slide_type": "skip"
    }
   },
   "outputs": [
    {
     "name": "stdout",
     "output_type": "stream",
     "text": [
      "Help on function Block(2-D Rotate).lambdas[x'] in Block(2-D Rotate):\n",
      "\n",
      "Block(2-D Rotate).lambdas[x'](x, y, theta)\n",
      "    x' = x*cos(theta) - y*sin(theta)\n",
      "\n",
      "Help on function Block(2-D Rotate).lambdas[y'] in Block(2-D Rotate):\n",
      "\n",
      "Block(2-D Rotate).lambdas[y'](x, y, theta)\n",
      "    y' = x*sin(theta) + y*cos(theta)\n",
      "\n"
     ]
    }
   ],
   "source": [
    "# All lambdify calls are made with the full set of inputs\n",
    "p = []\n",
    "# Update the signatures for each compiled expression\n",
    "for k in f.keys():\n",
    "    sig=inspect.signature(f[k])\n",
    "    if len(p) == 0:\n",
    "        for i,s in zip(sig.parameters.values(), map(str, b2.ins)):\n",
    "            p.append(i.replace(name=s))\n",
    "    f[k].__signature__ = sig.replace(parameters=p)\n",
    "    help(f[k])"
   ]
  },
  {
   "cell_type": "code",
   "execution_count": 51,
   "metadata": {
    "collapsed": false
   },
   "outputs": [],
   "source": [
    "import types\n",
    "\n",
    "# backup functions before overwriting them\n",
    "Block.__lambdify = Block.lambdify\n",
    "b2.__lambdify = b2.lambdify"
   ]
  },
  {
   "cell_type": "code",
   "execution_count": 52,
   "metadata": {
    "collapsed": true
   },
   "outputs": [],
   "source": [
    "# Rename the old function\n",
    "b2._lambdify = b2.lambdify\n",
    "Block._lambdify = Block.lambdify\n",
    "\n",
    "#test._lambdify = types.MethodType(test.lambdify, test)\n",
    "#Block._lambdify = types.MethodType(Block.lambdify, Block)"
   ]
  },
  {
   "cell_type": "code",
   "execution_count": 56,
   "metadata": {
    "collapsed": false
   },
   "outputs": [],
   "source": [
    "def lambdify(self, *args, **kwargs):\n",
    "    # Call the base function with any arguments\n",
    "    self._lambdify(*args, **kwargs)\n",
    "    # Update the signatures for each compiled expression\n",
    "    for k in self.lambdas.keys():\n",
    "        sig=inspect.signature(self.lambdas[k])\n",
    "        p = []\n",
    "        for i,s in zip(sig.parameters.values(), map(str, self.ins)):\n",
    "            p.append(i.replace(name=s))\n",
    "        self.lambdas[k].__signature__ = sig.replace(parameters=p)\n",
    "    return self.lambdas\n",
    "\n",
    "# update the old __doc__ string\n",
    "lambdify.__doc__ = Block._lambdify.__doc__ + ' and set the arguments to the variable names'\n",
    "\n",
    "# use the new function in the class and existing instance\n",
    "b2.lambdify = types.MethodType(lambdify, b2)\n",
    "Block.lambdify = types.MethodType(lambdify, Block)"
   ]
  },
  {
   "cell_type": "code",
   "execution_count": 57,
   "metadata": {
    "collapsed": false,
    "scrolled": true
   },
   "outputs": [
    {
     "name": "stdout",
     "output_type": "stream",
     "text": [
      "Compiling Block '2-D Rotate' expressions:\n",
      "Solving equations for unknowns: (x', y', c, s)\n",
      "(Eq(c, cos(theta)), Eq(s, sin(theta)), Eq(x', c*x - s*y), Eq(y', c*y + s*x))\n",
      " = [{s: sin(theta), c: cos(theta), x': x*cos(theta) - y*sin(theta), y': x*sin(theta) + y*cos(theta)}] \n",
      "\n",
      "  x' = sympy.lambdify((x, y, theta), x*cos(theta) - y*sin(theta), '('numpy', [])')\n",
      "  y' = sympy.lambdify((x, y, theta), x*sin(theta) + y*cos(theta), '('numpy', [])')\n"
     ]
    }
   ],
   "source": [
    "f = b2.lambdify()"
   ]
  },
  {
   "cell_type": "code",
   "execution_count": 58,
   "metadata": {
    "collapsed": false
   },
   "outputs": [
    {
     "name": "stdout",
     "output_type": "stream",
     "text": [
      "Help on function Block(2-D Rotate).lambdas[x'] in Block(2-D Rotate):\n",
      "\n",
      "Block(2-D Rotate).lambdas[x'](x, y, theta)\n",
      "    x' = x*cos(theta) - y*sin(theta)\n",
      "\n"
     ]
    }
   ],
   "source": [
    "help(f[\"x'\"])"
   ]
  },
  {
   "cell_type": "code",
   "execution_count": 59,
   "metadata": {
    "collapsed": false,
    "scrolled": true,
    "slideshow": {
     "slide_type": "subslide"
    }
   },
   "outputs": [
    {
     "name": "stdout",
     "output_type": "stream",
     "text": [
      "Help on class Signature in module inspect:\n",
      "\n",
      "class Signature(builtins.object)\n",
      " |  A Signature object represents the overall signature of a function.\n",
      " |  It stores a Parameter object for each parameter accepted by the\n",
      " |  function, as well as information specific to the function itself.\n",
      " |  \n",
      " |  A Signature object has the following public attributes and methods:\n",
      " |  \n",
      " |  * parameters : OrderedDict\n",
      " |      An ordered mapping of parameters' names to the corresponding\n",
      " |      Parameter objects (keyword-only arguments are in the same order\n",
      " |      as listed in `code.co_varnames`).\n",
      " |  * return_annotation : object\n",
      " |      The annotation for the return type of the function if specified.\n",
      " |      If the function has no annotation for its return type, this\n",
      " |      attribute is set to `Signature.empty`.\n",
      " |  * bind(*args, **kwargs) -> BoundArguments\n",
      " |      Creates a mapping from positional and keyword arguments to\n",
      " |      parameters.\n",
      " |  * bind_partial(*args, **kwargs) -> BoundArguments\n",
      " |      Creates a partial mapping from positional and keyword arguments\n",
      " |      to parameters (simulating 'functools.partial' behavior.)\n",
      " |  \n",
      " |  Methods defined here:\n",
      " |  \n",
      " |  __eq__(self, other)\n",
      " |      Return self==value.\n",
      " |  \n",
      " |  __hash__(self)\n",
      " |      Return hash(self).\n",
      " |  \n",
      " |  __init__(self, parameters=None, *, return_annotation, __validate_parameters__=True)\n",
      " |      Constructs Signature from the given list of Parameter\n",
      " |      objects and 'return_annotation'.  All arguments are optional.\n",
      " |  \n",
      " |  __reduce__(self)\n",
      " |      helper for pickle\n",
      " |  \n",
      " |  __repr__(self)\n",
      " |      Return repr(self).\n",
      " |  \n",
      " |  __setstate__(self, state)\n",
      " |  \n",
      " |  __str__(self)\n",
      " |      Return str(self).\n",
      " |  \n",
      " |  bind(*args, **kwargs)\n",
      " |      Get a BoundArguments object, that maps the passed `args`\n",
      " |      and `kwargs` to the function's signature.  Raises `TypeError`\n",
      " |      if the passed arguments can not be bound.\n",
      " |  \n",
      " |  bind_partial(*args, **kwargs)\n",
      " |      Get a BoundArguments object, that partially maps the\n",
      " |      passed `args` and `kwargs` to the function's signature.\n",
      " |      Raises `TypeError` if the passed arguments can not be bound.\n",
      " |  \n",
      " |  replace(self, *, parameters=<class 'inspect._void'>, return_annotation=<class 'inspect._void'>)\n",
      " |      Creates a customized copy of the Signature.\n",
      " |      Pass 'parameters' and/or 'return_annotation' arguments\n",
      " |      to override them in the new copy.\n",
      " |  \n",
      " |  ----------------------------------------------------------------------\n",
      " |  Class methods defined here:\n",
      " |  \n",
      " |  from_builtin(func) from builtins.type\n",
      " |      Constructs Signature for the given builtin function.\n",
      " |  \n",
      " |  from_callable(obj, *, follow_wrapped=True) from builtins.type\n",
      " |      Constructs Signature for the given callable object.\n",
      " |  \n",
      " |  from_function(func) from builtins.type\n",
      " |      Constructs Signature for the given python function.\n",
      " |  \n",
      " |  ----------------------------------------------------------------------\n",
      " |  Data descriptors defined here:\n",
      " |  \n",
      " |  parameters\n",
      " |  \n",
      " |  return_annotation\n",
      " |  \n",
      " |  ----------------------------------------------------------------------\n",
      " |  Data and other attributes defined here:\n",
      " |  \n",
      " |  empty = <class 'inspect._empty'>\n",
      " |      Marker object for Signature.empty and Parameter.empty.\n",
      "\n"
     ]
    }
   ],
   "source": [
    "help(inspect.Signature)"
   ]
  },
  {
   "cell_type": "markdown",
   "metadata": {
    "slideshow": {
     "slide_type": "subslide"
    }
   },
   "source": [
    "And since it's coming up, let's go ahead and improve the `Block.eval` function used to call the various lambdify functions.  Extra credit to anyone who figures out why I couldn't do the same sort of `__signature__` update without getting a `NameError` exception."
   ]
  },
  {
   "cell_type": "code",
   "execution_count": 60,
   "metadata": {
    "collapsed": false,
    "slideshow": {
     "slide_type": "-"
    }
   },
   "outputs": [
    {
     "name": "stdout",
     "output_type": "stream",
     "text": [
      "Help on method _eval in module process:\n",
      "\n",
      "_eval(*args, **kwargs) method of process.Block instance\n",
      "    evaluate outputs for given inputs\n",
      "\n",
      "Help on function Block.eval in Block:\n",
      "\n",
      "Block.eval(_Dummy_30, _Dummy_31, _Dummy_32)\n",
      "    Calculate outputs (x', y') as follows:\n",
      "      Eq(c, cos(theta))\n",
      "      Eq(s, sin(theta))\n",
      "      Eq(x', c*x - s*y)\n",
      "      Eq(y', c*y + s*x)\n",
      "    \n",
      "    Block.outputMode = 'dict'\n",
      "\n"
     ]
    }
   ],
   "source": [
    "help(b2._eval)\n",
    "help(b2.eval)"
   ]
  },
  {
   "cell_type": "code",
   "execution_count": 61,
   "metadata": {
    "collapsed": true
   },
   "outputs": [],
   "source": [
    "# Backup the old functions\n",
    "b2._eval_save = b2.eval\n",
    "Block._wrap_eval_save = Block._wrap_eval"
   ]
  },
  {
   "cell_type": "code",
   "execution_count": 62,
   "metadata": {
    "collapsed": false
   },
   "outputs": [],
   "source": [
    "# instead of wrapping _eval, just update its help info\n",
    "def wrap_eval(self):\n",
    "    '''create _eval() wrapper function with useful docstring'''\n",
    "\n",
    "    def tuple_repr(i):\n",
    "        if type(i) == tuple:\n",
    "            o = i\n",
    "            s = repr(i)\n",
    "        else:\n",
    "            ins = (i,)\n",
    "            s = '('+repr(i)+')'\n",
    "        return o, s\n",
    "\n",
    "    ins, s_ins = tuple_repr(self.ins)\n",
    "    outs, s_outs = tuple_repr(self.outs)\n",
    "    f = self._eval\n",
    "            \n",
    "    f.__func__.__name__ = str(self.__class__.__name__)+'('+self.name+').eval'\n",
    "    s = 'Given inputs '+s_ins+', calculate outputs '+s_outs+' as follows:'\n",
    "    for e in self.eqn:\n",
    "        s += '\\n  '+str(e.lhs)+' = '+str(e.rhs)\n",
    "    s += '\\n\\nBlock.outputMode = '+repr(Block.outputMode)+'\\n'\n",
    "    f.__func__.__doc__ = s\n",
    "    \n",
    "    return f\n",
    "\n",
    "b2.eval = wrap_eval(b2)\n",
    "\n",
    "# use the new function in the class\n",
    "Block._wrap_eval = types.MethodType(wrap_eval, Block)"
   ]
  },
  {
   "cell_type": "code",
   "execution_count": 63,
   "metadata": {
    "collapsed": false
   },
   "outputs": [
    {
     "name": "stdout",
     "output_type": "stream",
     "text": [
      "Help on method Block(2-D Rotate).eval in Block(2-D Rotate):\n",
      "\n",
      "Block(2-D Rotate).eval(*args, **kwargs) method of process.Block instance\n",
      "    Given inputs (x, y, theta), calculate outputs (x', y') as follows:\n",
      "      c = cos(theta)\n",
      "      s = sin(theta)\n",
      "      x' = c*x - s*y\n",
      "      y' = c*y + s*x\n",
      "    \n",
      "    Block.outputMode = 'dict'\n",
      "\n",
      "\n",
      "Block.eval(x=1.0, y=2.0, theta=3.0, output='dict')\n",
      "\n"
     ]
    },
    {
     "data": {
      "text/plain": [
       "{\"2-D Rotate.x'\": -1.2722325127201799, \"2-D Rotate.y'\": -1.8388649851410237}"
      ]
     },
     "execution_count": 63,
     "metadata": {},
     "output_type": "execute_result"
    }
   ],
   "source": [
    "help(b2.eval)\n",
    "\n",
    "b2.eval(1.0,2.0,3.0)"
   ]
  },
  {
   "cell_type": "markdown",
   "metadata": {
    "slideshow": {
     "slide_type": "slide"
    }
   },
   "source": [
    "The outputs were specified when the Block instance was created, so `lambdify` all of those."
   ]
  },
  {
   "cell_type": "code",
   "execution_count": 64,
   "metadata": {
    "collapsed": false
   },
   "outputs": [
    {
     "name": "stdout",
     "output_type": "stream",
     "text": [
      "Compiling Block '2-D Rotate' expressions:\n",
      "Solving equations for unknowns: (x', y', c, s)\n",
      "(Eq(c, cos(theta)), Eq(s, sin(theta)), Eq(x', c*x - s*y), Eq(y', c*y + s*x))\n",
      " = [{s: sin(theta), c: cos(theta), x': x*cos(theta) - y*sin(theta), y': x*sin(theta) + y*cos(theta)}] \n",
      "\n",
      "  x' = sympy.lambdify((x, y, theta), x*cos(theta) - y*sin(theta), '('numpy', [])')\n",
      "  y' = sympy.lambdify((x, y, theta), x*sin(theta) + y*cos(theta), '('numpy', [])')\n"
     ]
    },
    {
     "data": {
      "text/plain": [
       "({\"x'\": <function numpy.<lambda>>, \"y'\": <function numpy.<lambda>>},\n",
       " {\"x'\": <function numpy.<lambda>>, \"y'\": <function numpy.<lambda>>})"
      ]
     },
     "execution_count": 64,
     "metadata": {},
     "output_type": "execute_result"
    }
   ],
   "source": [
    "f = b2.lambdify()\n",
    "f, b2.lambdas"
   ]
  },
  {
   "cell_type": "code",
   "execution_count": 65,
   "metadata": {
    "collapsed": false
   },
   "outputs": [
    {
     "name": "stdout",
     "output_type": "stream",
     "text": [
      "Help on function Block(2-D Rotate).lambdas[x'] in Block(2-D Rotate):\n",
      "\n",
      "Block(2-D Rotate).lambdas[x'](x, y, theta)\n",
      "    x' = x*cos(theta) - y*sin(theta)\n",
      "\n"
     ]
    }
   ],
   "source": [
    "help(f[\"x'\"])"
   ]
  },
  {
   "cell_type": "markdown",
   "metadata": {
    "slideshow": {
     "slide_type": "slide"
    }
   },
   "source": [
    "The functions were made using `sympy.lambdify`, so they get all the benefits like support for NumPy arrays.  The Block class also has an eval function to use that calls all the lambdify results."
   ]
  },
  {
   "cell_type": "code",
   "execution_count": 66,
   "metadata": {
    "collapsed": false,
    "slideshow": {
     "slide_type": "skip"
    }
   },
   "outputs": [
    {
     "name": "stdout",
     "output_type": "stream",
     "text": [
      "[  1.00000000e+00   9.23879533e-01   7.07106781e-01   3.82683432e-01\n",
      "   6.12323400e-17  -3.82683432e-01  -7.07106781e-01  -9.23879533e-01\n",
      "  -1.00000000e+00] <class 'numpy.ndarray'>\n"
     ]
    }
   ],
   "source": [
    "out = f[\"x'\"](1,0,np.linspace(0, np.pi, 8+1))\n",
    "print(out, type(out))"
   ]
  },
  {
   "cell_type": "code",
   "execution_count": 67,
   "metadata": {
    "collapsed": false
   },
   "outputs": [
    {
     "name": "stdout",
     "output_type": "stream",
     "text": [
      "Help on method Block(2-D Rotate).eval in Block(2-D Rotate):\n",
      "\n",
      "Block(2-D Rotate).eval(*args, **kwargs) method of process.Block instance\n",
      "    Given inputs (x, y, theta), calculate outputs (x', y') as follows:\n",
      "      c = cos(theta)\n",
      "      s = sin(theta)\n",
      "      x' = c*x - s*y\n",
      "      y' = c*y + s*x\n",
      "    \n",
      "    Block.outputMode = 'dict'\n",
      "\n"
     ]
    }
   ],
   "source": [
    "help(b2.eval)"
   ]
  },
  {
   "cell_type": "code",
   "execution_count": 68,
   "metadata": {
    "collapsed": false
   },
   "outputs": [
    {
     "name": "stdout",
     "output_type": "stream",
     "text": [
      "\n",
      "Block.eval(x=1, y=0, theta=[ 0.          0.39269908  0.78539816  1.17809725  1.57079633  1.96349541\n",
      "  2.35619449  2.74889357  3.14159265], output='dict')\n",
      "\n"
     ]
    },
    {
     "data": {
      "text/plain": [
       "{\"2-D Rotate.x'\": array([  1.00000000e+00,   9.23879533e-01,   7.07106781e-01,\n",
       "          3.82683432e-01,   6.12323400e-17,  -3.82683432e-01,\n",
       "         -7.07106781e-01,  -9.23879533e-01,  -1.00000000e+00]),\n",
       " \"2-D Rotate.y'\": array([  0.00000000e+00,   3.82683432e-01,   7.07106781e-01,\n",
       "          9.23879533e-01,   1.00000000e+00,   9.23879533e-01,\n",
       "          7.07106781e-01,   3.82683432e-01,   1.22464680e-16])}"
      ]
     },
     "execution_count": 68,
     "metadata": {},
     "output_type": "execute_result"
    }
   ],
   "source": [
    "b2.eval(1,0,np.linspace(0, np.pi, 8+1))"
   ]
  },
  {
   "cell_type": "markdown",
   "metadata": {
    "slideshow": {
     "slide_type": "skip"
    }
   },
   "source": [
    "**Potential Updates:**\n",
    "\n",
    "* Set of 2 or more blocks with interconnects\n",
    "* Solve for selected outputs\n",
    "* Solve for selected inputs\n",
    "* Draw interconnect diagram\n",
    "* Create interface tables"
   ]
  },
  {
   "cell_type": "markdown",
   "metadata": {
    "slideshow": {
     "slide_type": "slide"
    }
   },
   "source": [
    "### Unnecessary Pictures\n",
    "\n",
    "Because figures are fun.  Using the 2-D rotation, we can rotate a constellation of points to best match expectations."
   ]
  },
  {
   "cell_type": "markdown",
   "metadata": {
    "slideshow": {
     "slide_type": "skip"
    }
   },
   "source": [
    "Links: [Top](#Mathematical-Modeling-in-SymPy)\n",
    "[Intro](#SymPy-Introduction) \n",
    "[Text](#Convert-SymPy-equations-to-text)\n",
    "[LaTeX](#Convert-SymPy-equations-to-Latex)\n",
    "[Solver](#Rearranging-Equations)\n",
    "[Evaluating](#Evaluating-Expressions)\n",
    "[Designs](#Putting-Things-Together)\n",
    "[Help][]\n",
    "[Help]: #Help-(Doctrings)"
   ]
  },
  {
   "cell_type": "code",
   "execution_count": 89,
   "metadata": {
    "collapsed": false
   },
   "outputs": [],
   "source": [
    "# random (x,y) points\n",
    "xy1 = np.random.normal(0,0.5,(12,2))\n",
    "x,y = np.hsplit(xy1,2)\n",
    "# rotate points on a log-scale\n",
    "a = [0]+np.logspace(-2,1,20,base=5)\n",
    "b2.verbose = False\n",
    "xy2 = b2.eval(x,y,a)"
   ]
  },
  {
   "cell_type": "code",
   "execution_count": 92,
   "metadata": {
    "collapsed": false
   },
   "outputs": [
    {
     "data": {
      "image/png": "[encoded data removed]",
      "text/latex": [
       "$$\\left ( 12, \\quad 20\\right )$$"
      ],
      "text/plain": [
       "(12, 20)"
      ]
     },
     "execution_count": 92,
     "metadata": {},
     "output_type": "execute_result"
    }
   ],
   "source": [
    "xy2[\"2-D Rotate.x'\"].shape"
   ]
  },
  {
   "cell_type": "code",
   "execution_count": 218,
   "metadata": {
    "collapsed": false
   },
   "outputs": [
    {
     "data": {
      "image/png": "[encoded data removed]",
      "text/plain": [
       "<matplotlib.figure.Figure at 0x1aab663b080>"
      ]
     },
     "metadata": {},
     "output_type": "display_data"
    }
   ],
   "source": [
    "plt.figure(figsize=(12,9))\n",
    "for iq in circ2:\n",
    "    plt.plot(np.real(iq), np.imag(iq), c='g', ls=':')\n",
    "#plt.plot(iq1, marker='o', ls='none')\n",
    "#plt.axis(np.array([-1,1,-1,1])*1.5)\n",
    "plt.axis('equal')\n",
    "plt.grid()"
   ]
  },
  {
   "cell_type": "code",
   "execution_count": 185,
   "metadata": {
    "collapsed": false
   },
   "outputs": [
    {
     "data": {
      "text/plain": [
       "array([[ 0.04207535,  0.13806014],\n",
       "       [-0.42348165,  0.25042051],\n",
       "       [-0.98028671, -0.62576609]])"
      ]
     },
     "execution_count": 185,
     "metadata": {},
     "output_type": "execute_result"
    }
   ],
   "source": [
    "# random triangle\n",
    "xy1 = np.random.rand(3,2)*2-1\n",
    "xy1"
   ]
  },
  {
   "cell_type": "code",
   "execution_count": 195,
   "metadata": {
    "collapsed": false
   },
   "outputs": [
    {
     "data": {
      "text/plain": [
       "[(0.042075345915687512+0.13806013585809196j),\n",
       " (-0.42348164543407396+0.25042050651971404j),\n",
       " (-0.98028670686948427-0.62576608866166561j)]"
      ]
     },
     "execution_count": 195,
     "metadata": {},
     "output_type": "execute_result"
    }
   ],
   "source": [
    "# covert (x,y) to complex number\n",
    "iq1 = [ xy[0]+1j*xy[1] for xy in xy1 ]\n",
    "# random triangle\n",
    "iq2 = [ xy[0]+1j*xy[1] for xy in np.random.rand(3,2)*2-1 ]\n",
    "\n",
    "iq1"
   ]
  },
  {
   "cell_type": "code",
   "execution_count": 215,
   "metadata": {
    "collapsed": false
   },
   "outputs": [
    {
     "data": {
      "text/plain": [
       "array([ 1.27497738,  2.60756711, -2.57345083])"
      ]
     },
     "execution_count": 215,
     "metadata": {},
     "output_type": "execute_result"
    }
   ],
   "source": [
    "# calculate circles for the points in group 2\n",
    "a = np.reshape(np.linspace(0,2*np.pi,60), (60,1))\n",
    "unit = cos(a) + 1j*sin(a)\n",
    "circ2 = np.reshape(np.abs(iq2), (3,1)) * unit.T\n",
    "# calculate angles for points in group 1\n",
    "np.angle(iq1)"
   ]
  },
  {
   "cell_type": "code",
   "execution_count": 218,
   "metadata": {
    "collapsed": false
   },
   "outputs": [
    {
     "data": {
      "image/png": "[encoded data removed]",
      "text/plain": [
       "<matplotlib.figure.Figure at 0x1aab663b080>"
      ]
     },
     "metadata": {},
     "output_type": "display_data"
    }
   ],
   "source": [
    "plt.figure(figsize=(12,9))\n",
    "plt.plot(np.real(iq1), np.imag(iq1), np.real(iq2), np.imag(iq2), marker='o', linestyle='none')\n",
    "for iq in circ2:\n",
    "    plt.plot(np.real(iq), np.imag(iq), c='g', ls=':')\n",
    "#plt.plot(iq1, marker='o', ls='none')\n",
    "#plt.axis(np.array([-1,1,-1,1])*1.5)\n",
    "plt.axis('equal')\n",
    "plt.grid()"
   ]
  },
  {
   "cell_type": "code",
   "execution_count": 102,
   "metadata": {
    "collapsed": false
   },
   "outputs": [
    {
     "name": "stdout",
     "output_type": "stream",
     "text": [
      "Populating the interactive namespace from numpy and matplotlib\n"
     ]
    },
    {
     "name": "stderr",
     "output_type": "stream",
     "text": [
      "WARNING: pylab import has clobbered these variables: ['test', 'e', 'f']\n",
      "`%matplotlib` prevents importing * from pylab and numpy\n"
     ]
    }
   ],
   "source": [
    "from matplotlib import pyplot as plt\n",
    "\n",
    "# for IPython plotting\n",
    "%pylab inline"
   ]
  },
  {
   "cell_type": "code",
   "execution_count": 132,
   "metadata": {
    "collapsed": false
   },
   "outputs": [
    {
     "data": {
      "text/plain": [
       "[<matplotlib.lines.Line2D at 0x1aab3ba3a58>,\n",
       " <matplotlib.lines.Line2D at 0x1aab3ba3c18>,\n",
       " <matplotlib.lines.Line2D at 0x1aab3ba3eb8>]"
      ]
     },
     "execution_count": 132,
     "metadata": {},
     "output_type": "execute_result"
    },
    {
     "data": {
      "image/png": "[encoded data removed]",
      "text/plain": [
       "<matplotlib.figure.Figure at 0x1aab2999f98>"
      ]
     },
     "metadata": {},
     "output_type": "display_data"
    }
   ],
   "source": [
    "ax = plt.plot(tri1.T)"
   ]
  },
  {
   "cell_type": "markdown",
   "metadata": {
    "slideshow": {
     "slide_type": "slide"
    }
   },
   "source": [
    "## More Information\n",
    "### SymPy Help"
   ]
  },
  {
   "cell_type": "markdown",
   "metadata": {
    "slideshow": {
     "slide_type": "skip"
    }
   },
   "source": [
    "Links: [Top](#Mathematical-Modeling-in-SymPy)\n",
    "[Intro](#SymPy-Introduction) \n",
    "[Text](#Convert-SymPy-equations-to-text)\n",
    "[LaTeX](#Convert-SymPy-equations-to-Latex)\n",
    "[Solver](#Rearranging-Equations)\n",
    "[Evaluating](#Evaluating-Expressions)\n",
    "[Designs](#Putting-Things-Together)\n",
    "[Help][]\n",
    "[Help]: #Help-(Doctrings)"
   ]
  },
  {
   "cell_type": "markdown",
   "metadata": {},
   "source": [
    "* _sympy.\\*.subs(\\*args, \\*\\*kwargs)_\n",
    "* _sympy.lambdify(args, expr, modules=None)_"
   ]
  },
  {
   "cell_type": "code",
   "execution_count": 91,
   "metadata": {
    "collapsed": false,
    "slideshow": {
     "slide_type": "subslide"
    }
   },
   "outputs": [
    {
     "name": "stdout",
     "output_type": "stream",
     "text": [
      "<class 'sympy.core.relational.Equality'> \n",
      "\n",
      "Help on method subs in module sympy.core.basic:\n",
      "\n",
      "subs(*args, **kwargs) method of sympy.core.relational.Equality instance\n",
      "    Substitutes old for new in an expression after sympifying args.\n",
      "    \n",
      "    `args` is either:\n",
      "      - two arguments, e.g. foo.subs(old, new)\n",
      "      - one iterable argument, e.g. foo.subs(iterable). The iterable may be\n",
      "         o an iterable container with (old, new) pairs. In this case the\n",
      "           replacements are processed in the order given with successive\n",
      "           patterns possibly affecting replacements already made.\n",
      "         o a dict or set whose key/value items correspond to old/new pairs.\n",
      "           In this case the old/new pairs will be sorted by op count and in\n",
      "           case of a tie, by number of args and the default_sort_key. The\n",
      "           resulting sorted list is then processed as an iterable container\n",
      "           (see previous).\n",
      "    \n",
      "    If the keyword ``simultaneous`` is True, the subexpressions will not be\n",
      "    evaluated until all the substitutions have been made.\n",
      "    \n",
      "    Examples\n",
      "    ========\n",
      "    \n",
      "    >>> from sympy import pi, exp, limit, oo\n",
      "    >>> from sympy.abc import x, y\n",
      "    >>> (1 + x*y).subs(x, pi)\n",
      "    pi*y + 1\n",
      "    >>> (1 + x*y).subs({x:pi, y:2})\n",
      "    1 + 2*pi\n",
      "    >>> (1 + x*y).subs([(x, pi), (y, 2)])\n",
      "    1 + 2*pi\n",
      "    >>> reps = [(y, x**2), (x, 2)]\n",
      "    >>> (x + y).subs(reps)\n",
      "    6\n",
      "    >>> (x + y).subs(reversed(reps))\n",
      "    x**2 + 2\n",
      "    \n",
      "    >>> (x**2 + x**4).subs(x**2, y)\n",
      "    y**2 + y\n",
      "    \n",
      "    To replace only the x**2 but not the x**4, use xreplace:\n",
      "    \n",
      "    >>> (x**2 + x**4).xreplace({x**2: y})\n",
      "    x**4 + y\n",
      "    \n",
      "    To delay evaluation until all substitutions have been made,\n",
      "    set the keyword ``simultaneous`` to True:\n",
      "    \n",
      "    >>> (x/y).subs([(x, 0), (y, 0)])\n",
      "    0\n",
      "    >>> (x/y).subs([(x, 0), (y, 0)], simultaneous=True)\n",
      "    nan\n",
      "    \n",
      "    This has the added feature of not allowing subsequent substitutions\n",
      "    to affect those already made:\n",
      "    \n",
      "    >>> ((x + y)/y).subs({x + y: y, y: x + y})\n",
      "    1\n",
      "    >>> ((x + y)/y).subs({x + y: y, y: x + y}, simultaneous=True)\n",
      "    y/(x + y)\n",
      "    \n",
      "    In order to obtain a canonical result, unordered iterables are\n",
      "    sorted by count_op length, number of arguments and by the\n",
      "    default_sort_key to break any ties. All other iterables are left\n",
      "    unsorted.\n",
      "    \n",
      "    >>> from sympy import sqrt, sin, cos\n",
      "    >>> from sympy.abc import a, b, c, d, e\n",
      "    \n",
      "    >>> A = (sqrt(sin(2*x)), a)\n",
      "    >>> B = (sin(2*x), b)\n",
      "    >>> C = (cos(2*x), c)\n",
      "    >>> D = (x, d)\n",
      "    >>> E = (exp(x), e)\n",
      "    \n",
      "    >>> expr = sqrt(sin(2*x))*sin(exp(x)*x)*cos(2*x) + sin(2*x)\n",
      "    \n",
      "    >>> expr.subs(dict([A, B, C, D, E]))\n",
      "    a*c*sin(d*e) + b\n",
      "    \n",
      "    The resulting expression represents a literal replacement of the\n",
      "    old arguments with the new arguments. This may not reflect the\n",
      "    limiting behavior of the expression:\n",
      "    \n",
      "    >>> (x**3 - 3*x).subs({x: oo})\n",
      "    nan\n",
      "    \n",
      "    >>> limit(x**3 - 3*x, x, oo)\n",
      "    oo\n",
      "    \n",
      "    If the substitution will be followed by numerical\n",
      "    evaluation, it is better to pass the substitution to\n",
      "    evalf as\n",
      "    \n",
      "    >>> (1/x).evalf(subs={x: 3.0}, n=21)\n",
      "    0.333333333333333333333\n",
      "    \n",
      "    rather than\n",
      "    \n",
      "    >>> (1/x).subs({x: 3.0}).evalf(21)\n",
      "    0.333333333333333314830\n",
      "    \n",
      "    as the former will ensure that the desired level of precision is\n",
      "    obtained.\n",
      "    \n",
      "    See Also\n",
      "    ========\n",
      "    replace: replacement capable of doing wildcard-like matching,\n",
      "             parsing of match, and conditional replacements\n",
      "    xreplace: exact node replacement in expr tree; also capable of\n",
      "              using matching rules\n",
      "    evalf: calculates the given formula to a desired level of precision\n",
      "\n"
     ]
    }
   ],
   "source": [
    "print(type(b.eqn[0]),'\\n')\n",
    "help(b.eqn[0].subs)"
   ]
  },
  {
   "cell_type": "code",
   "execution_count": 92,
   "metadata": {
    "collapsed": false,
    "slideshow": {
     "slide_type": "subslide"
    }
   },
   "outputs": [
    {
     "name": "stdout",
     "output_type": "stream",
     "text": [
      "Help on function lambdify in module sympy.utilities.lambdify:\n",
      "\n",
      "lambdify(args, expr, modules=None, printer=None, use_imps=True, dummify=True)\n",
      "    Returns a lambda function for fast calculation of numerical values.\n",
      "    \n",
      "    If not specified differently by the user, SymPy functions are replaced as\n",
      "    far as possible by either python-math, numpy (if available) or mpmath\n",
      "    functions - exactly in this order. To change this behavior, the \"modules\"\n",
      "    argument can be used. It accepts:\n",
      "    \n",
      "     - the strings \"math\", \"mpmath\", \"numpy\", \"numexpr\", \"sympy\"\n",
      "     - any modules (e.g. math)\n",
      "     - dictionaries that map names of sympy functions to arbitrary functions\n",
      "     - lists that contain a mix of the arguments above, with higher priority\n",
      "       given to entries appearing first.\n",
      "    \n",
      "    The default behavior is to substitute all arguments in the provided\n",
      "    expression with dummy symbols. This allows for applied functions (e.g.\n",
      "    f(t)) to be supplied as arguments. Call the function with dummify=False if\n",
      "    dummy substitution is unwanted (and `args` is not a string). If you want\n",
      "    to view the lambdified function or provide \"sympy\" as the module, you\n",
      "    should probably set dummify=False.\n",
      "    \n",
      "    For functions involving large array calculations, numexpr can provide a\n",
      "    significant speedup over numpy.  Please note that the available functions\n",
      "    for numexpr are more limited than numpy but can be expanded with\n",
      "    implemented_function and user defined subclasses of Function.  If specified,\n",
      "    numexpr may be the only option in modules. The official list of numexpr\n",
      "    functions can be found at:\n",
      "    https://github.com/pydata/numexpr#supported-functions\n",
      "    \n",
      "    In previous releases ``lambdify`` replaced ``Matrix`` with ``numpy.matrix``\n",
      "    by default. As of release 1.0 ``numpy.array`` is the default.\n",
      "    To get the old default behavior you must pass in ``[{'ImmutableMatrix':\n",
      "    numpy.matrix}, 'numpy']`` to the ``modules`` kwarg.\n",
      "    \n",
      "    >>> from sympy import lambdify, Matrix\n",
      "    >>> from sympy.abc import x, y\n",
      "    >>> import numpy\n",
      "    >>> array2mat = [{'ImmutableMatrix': numpy.matrix}, 'numpy']\n",
      "    >>> f = lambdify((x, y), Matrix([x, y]), modules=array2mat)\n",
      "    >>> f(1, 2)\n",
      "    matrix([[1],\n",
      "            [2]])\n",
      "    \n",
      "    Usage\n",
      "    =====\n",
      "    \n",
      "    (1) Use one of the provided modules:\n",
      "    \n",
      "        >>> from sympy import sin, tan, gamma\n",
      "        >>> from sympy.utilities.lambdify import lambdastr\n",
      "        >>> from sympy.abc import x, y\n",
      "        >>> f = lambdify(x, sin(x), \"math\")\n",
      "    \n",
      "        Attention: Functions that are not in the math module will throw a name\n",
      "                   error when the lambda function is evaluated! So this would\n",
      "                   be better:\n",
      "    \n",
      "        >>> f = lambdify(x, sin(x)*gamma(x), (\"math\", \"mpmath\", \"sympy\"))\n",
      "    \n",
      "    (2) Use some other module:\n",
      "    \n",
      "        >>> import numpy\n",
      "        >>> f = lambdify((x,y), tan(x*y), numpy)\n",
      "    \n",
      "        Attention: There are naming differences between numpy and sympy. So if\n",
      "                   you simply take the numpy module, e.g. sympy.atan will not be\n",
      "                   translated to numpy.arctan. Use the modified module instead\n",
      "                   by passing the string \"numpy\":\n",
      "    \n",
      "        >>> f = lambdify((x,y), tan(x*y), \"numpy\")\n",
      "        >>> f(1, 2)\n",
      "        -2.18503986326\n",
      "        >>> from numpy import array\n",
      "        >>> f(array([1, 2, 3]), array([2, 3, 5]))\n",
      "        [-2.18503986 -0.29100619 -0.8559934 ]\n",
      "    \n",
      "    (3) Use a dictionary defining custom functions:\n",
      "    \n",
      "        >>> def my_cool_function(x): return 'sin(%s) is cool' % x\n",
      "        >>> myfuncs = {\"sin\" : my_cool_function}\n",
      "        >>> f = lambdify(x, sin(x), myfuncs); f(1)\n",
      "        'sin(1) is cool'\n",
      "    \n",
      "    Examples\n",
      "    ========\n",
      "    \n",
      "    >>> from sympy.utilities.lambdify import implemented_function\n",
      "    >>> from sympy import sqrt, sin, Matrix\n",
      "    >>> from sympy import Function\n",
      "    >>> from sympy.abc import w, x, y, z\n",
      "    \n",
      "    >>> f = lambdify(x, x**2)\n",
      "    >>> f(2)\n",
      "    4\n",
      "    >>> f = lambdify((x, y, z), [z, y, x])\n",
      "    >>> f(1,2,3)\n",
      "    [3, 2, 1]\n",
      "    >>> f = lambdify(x, sqrt(x))\n",
      "    >>> f(4)\n",
      "    2.0\n",
      "    >>> f = lambdify((x, y), sin(x*y)**2)\n",
      "    >>> f(0, 5)\n",
      "    0.0\n",
      "    >>> row = lambdify((x, y), Matrix((x, x + y)).T, modules='sympy')\n",
      "    >>> row(1, 2)\n",
      "    Matrix([[1, 3]])\n",
      "    \n",
      "    Tuple arguments are handled and the lambdified function should\n",
      "    be called with the same type of arguments as were used to create\n",
      "    the function.:\n",
      "    \n",
      "    >>> f = lambdify((x, (y, z)), x + y)\n",
      "    >>> f(1, (2, 4))\n",
      "    3\n",
      "    \n",
      "    A more robust way of handling this is to always work with flattened\n",
      "    arguments:\n",
      "    \n",
      "    >>> from sympy.utilities.iterables import flatten\n",
      "    >>> args = w, (x, (y, z))\n",
      "    >>> vals = 1, (2, (3, 4))\n",
      "    >>> f = lambdify(flatten(args), w + x + y + z)\n",
      "    >>> f(*flatten(vals))\n",
      "    10\n",
      "    \n",
      "    Functions present in `expr` can also carry their own numerical\n",
      "    implementations, in a callable attached to the ``_imp_``\n",
      "    attribute.  Usually you attach this using the\n",
      "    ``implemented_function`` factory:\n",
      "    \n",
      "    >>> f = implemented_function(Function('f'), lambda x: x+1)\n",
      "    >>> func = lambdify(x, f(x))\n",
      "    >>> func(4)\n",
      "    5\n",
      "    \n",
      "    ``lambdify`` always prefers ``_imp_`` implementations to implementations\n",
      "    in other namespaces, unless the ``use_imps`` input parameter is False.\n",
      "\n"
     ]
    }
   ],
   "source": [
    "help(sympy.lambdify)"
   ]
  },
  {
   "cell_type": "markdown",
   "metadata": {
    "slideshow": {
     "slide_type": "slide"
    }
   },
   "source": [
    "### Upgrading Code to Python 3\n",
    "\n",
    "I originally made this notebook using Python 2.7.  Fortunately, there's a Python library for that too [lib2to3](https://docs.python.org/2/library/2to3.html), although the canned `2to3` application worked just fine for me.  Although this doesn't usually change functionality, there may be some slight changes as seen when running `help` on the `sympy.lambdify` output functions."
   ]
  },
  {
   "cell_type": "code",
   "execution_count": 93,
   "metadata": {
    "collapsed": false,
    "slideshow": {
     "slide_type": "subslide"
    }
   },
   "outputs": [
    {
     "name": "stdout",
     "output_type": "stream",
     "text": [
      "Overwriting process.py\n"
     ]
    }
   ],
   "source": [
    "%%file process.py\n",
    "import sympy\n",
    "import numpy as np\n",
    "\n",
    "def parseExpr(expr=''):\n",
    "    '''Helper function to iterate through a list of equations'''\n",
    "    err = 'Malformed expression! Does not match \"y = f(x)\"\\n  {0:s}'\n",
    "    for s in expr.strip().split('\\n'):\n",
    "        # Parse anything that looks like an equation and isn't commented out\n",
    "        if ('=' in s) and (s[0] != '#'):\n",
    "            # convert expression to sympy\n",
    "            y, f = map(str.strip, s.split('=',1))\n",
    "            y = sympy.Symbol(y)\n",
    "            f = sympy.sympify(f)\n",
    "            assert type(y) == sympy.symbol.Symbol, err.format(s)\n",
    "            yield (y, f)\n",
    "                \n",
    "class Block(object):\n",
    "    '''Block(expr, inputs='', outputs='', functions={})\n",
    "Generic processing block that performs specified calculations on given inputs\n",
    "in such a way to ease documentation\n",
    "    '''\n",
    "    \n",
    "    verbose    = True   # Enable verbose output\n",
    "    outputMode = 'dict' # eval() return type ('dict' or 'tuple')\n",
    "    \n",
    "    def __init__(self, expr, name='', inputs='', outputs='', functions={}):\n",
    "        '''Create a Block instance'''\n",
    "        \n",
    "        if Block.verbose:\n",
    "            s = 'Creating Block(expr={:s}, name={:s}, inputs={:s}, outputs={:s}, functions='\n",
    "            s = s.format(*map(repr,[expr, name, inputs, outputs]))+'{'\n",
    "            if functions:\n",
    "                s_functions = []\n",
    "                for k, v in functions.iteritems():\n",
    "                    s2 = k+':'+v.__name__\n",
    "                    args, varargs, keywords, defaults = getargspec(v)\n",
    "                    if varargs != None:\n",
    "                        args += ['*args']\n",
    "                    if keywords != None:\n",
    "                        args += ['*kwargs']\n",
    "                    s2 += '('+','.join(args)+')'\n",
    "                    s_functions.append(s2)\n",
    "                s += ','.join(s_functions)\n",
    "            print s+'})'\n",
    "        \n",
    "        self.name = name\n",
    "        self.user = functions\n",
    "        \n",
    "        # save in list form for ordered outputs\n",
    "        eqn = tuple(parseExpr(expr))\n",
    "        self.eqn = tuple([ sympy.Eq(k, v) for k, v in eqn ])\n",
    "        # placeholder for compiled expressions\n",
    "        self.lambdas = {}\n",
    "        \n",
    "        # Extract inputs and functions used\n",
    "        expr_inputs = set()\n",
    "        expr_functs = set()\n",
    "        for k, v in eqn:\n",
    "            for arg in sympy.preorder_traversal(v):\n",
    "                if arg.is_Symbol:\n",
    "                    expr_inputs.add(arg)\n",
    "                elif arg.is_Function:\n",
    "                    expr_functs.add(arg.func)\n",
    "        \n",
    "        # save SymPy style .args and .func attributes\n",
    "        self.args = tuple(expr_inputs)\n",
    "        self.func = tuple(expr_functs)     \n",
    "        \n",
    "        if inputs:\n",
    "            self.ins = sympy.symbols(inputs)\n",
    "        else: # extract inputs from expr\n",
    "            self.ins = tuple(self.args)\n",
    "            \n",
    "        outs = tuple([ i[0] for i in eqn ])\n",
    "        if outputs:\n",
    "            self.outs = sympy.symbols(outputs)\n",
    "            print 'outs='+repr(outs)\n",
    "            self.hidden = tuple([ i for i in outs if i not in self.outs ])\n",
    "        else: # extract inputs from expr\n",
    "            self.outs = outs\n",
    "            self.hidden = tuple()\n",
    "            if Block.verbose:\n",
    "                print '  Extracting outputs:', self.outs\n",
    "                \n",
    "        # create _eval() wrapper function with useful docstring        \n",
    "        self.eval = self._wrap_eval()\n",
    "                        \n",
    "    def _wrap_eval(self):\n",
    "        '''create _eval() wrapper function with useful docstring'''\n",
    "        \n",
    "        if type(self.ins) == tuple:\n",
    "            ins = self.ins\n",
    "            s = repr(self.ins)\n",
    "        else:\n",
    "            ins = (self.ins,)\n",
    "            s = '('+repr(self.ins)+')'\n",
    "\n",
    "        # not sure how to do a decorator with non-generic dynamic args\n",
    "        func = sympy.lambdify(self.ins, '_eval'+s, {'_eval':self._eval})\n",
    "        func.__name__ = 'Block.eval'\n",
    "        s = repr(self.outs)\n",
    "        if type(self.outs) != tuple:\n",
    "            s = '('+s+')'\n",
    "        func.__doc__ = 'Calculate outputs '+s+' as follows:\\n  '\n",
    "        func.__doc__ += '\\n  '.join(map(str,self.eqn))\n",
    "        func.__doc__ += '\\n\\nBlock.outputMode = '+repr(Block.outputMode)+'\\n'\n",
    "        \n",
    "        return func\n",
    "        \n",
    "    def __str__(self):\n",
    "        '''Support str calls on Block instances'''\n",
    "        s  = 'Block: '+str(self.name)+'\\n'\n",
    "        s += '\\n'.join( str(e).replace('==','=') for e in self.eqn )\n",
    "        return s\n",
    "    \n",
    "    def __repr__(self):\n",
    "        '''return representation that sympy will automatically show as LaTeX'''\n",
    "        s = 'Block'\n",
    "        if self.name:\n",
    "            s += '('+self.name +')'\n",
    "        return repr({s:[ sympy.Eq(sympy.Symbol(k), v) for k,v in self.eqn.items() ]})\n",
    "    \n",
    "    # method doesn't work currently\n",
    "    __repr__ = __str__\n",
    "    \n",
    "    def pretty(self):\n",
    "        '''Show a SymPy pretty print version of Block equations'''\n",
    "        print '\\nBlock:', self.name\n",
    "        print '\\n'.join( sympy.pretty(e) for e in self.eqn )\n",
    "        \n",
    "    @property\n",
    "    def latex(self):\n",
    "        '''generate a latex version of Block equations'''\n",
    "        # \\verb;*; leaves contents unformatted\n",
    "        s  = r'\\underline{\\verb;Block: '+str(self.name)+';} \\\\\\\\ \\n'\n",
    "        s += ' \\\\\\\\ \\n'.join( sympy.latex(e) for e in self.eqn )\n",
    "        return s \n",
    "        \n",
    "    def lambdify(self, unknowns=None):\n",
    "        '''generate an executable function using NumPy'''\n",
    "        lookup='numpy'\n",
    "        \n",
    "        # by default, unknowns are everything but outputs\n",
    "        if unknowns == None:\n",
    "            unknowns = self.outs+self.hidden\n",
    "        \n",
    "        if self.verbose:\n",
    "            print 'Compiling Block '+repr(self.name)+' expressions:'\n",
    "            \n",
    "        # check for missing functions\n",
    "        defined = set(dir(np) + self.user.keys())\n",
    "        missing = [ f for f in self.func if str(f) not in defined ]\n",
    "        if missing:\n",
    "            s = 'Unable to find functions '+str(missing)+' in '+str(lookup)\n",
    "            s += ' or user-defined functions ' + self.user.keys()\n",
    "            raise LookupError, s\n",
    "        \n",
    "        # solve equations in terms of unknowns\n",
    "        eqn = sympy.solve(self.eqn, unknowns, dict=True)\n",
    "        if self.verbose:\n",
    "            print 'Solving equations for unknowns:', unknowns \n",
    "            print self.eqn\n",
    "            print ' =', eqn, '\\n'\n",
    "        \n",
    "        s = \"  {0:s} = sympy.lambdify({1:s}, {2:s}, '{3:s}')\" # verbose string\n",
    "        for k, v in eqn[0].iteritems():   \n",
    "            if k in self.hidden: # skip intermediate values\n",
    "                continue\n",
    "            \n",
    "            k = str(k) # convert output variable from sympy.Symbol\n",
    "            \n",
    "            if self.verbose:\n",
    "                print s.format(*map(str, (k, self.ins, v, (lookup, self.user.keys()) )))\n",
    "            f = sympy.lambdify(self.ins, v, (lookup, self.user))\n",
    "            # Update the function name and doc string from \"<lambda> lambda x, y, theta\"\n",
    "            f.__name__ = \"Block\"\n",
    "            if self.name:\n",
    "                f.__name__ += '('+self.name+')'\n",
    "            f.__name__ += '.lambdas['+k+']'\n",
    "            f.__doc__ = k+' = '+str(v)\n",
    "            self.lambdas[k] = f\n",
    "            \n",
    "        return self.lambdas    \n",
    "        \n",
    "    def _eval(self, *args, **kwargs):\n",
    "        '''evaluate outputs for given inputs'''\n",
    "        \n",
    "        # make sure in/ouputs are iterable\n",
    "        if hasattr(self.ins, '__iter__'):\n",
    "            ins = self.ins\n",
    "        else:\n",
    "            ins = [self.ins]\n",
    "            \n",
    "        # make sure all inputs are given\n",
    "        assert len(args) == len(ins)\n",
    "\n",
    "        # default kwargs values\n",
    "        if not kwargs.has_key('output'):\n",
    "            output=Block.outputMode\n",
    "                   \n",
    "        # compile expressions if needed\n",
    "        if not self.lambdas:\n",
    "            self.lambdify()\n",
    "            \n",
    "        if self.verbose:\n",
    "            s = '\\nBlock.eval('\n",
    "            s += ', '.join( map(lambda k, v: str(k)+'='+str(v), ins, args) )\n",
    "            s += ', output='+repr(output)\n",
    "            print s+')\\n'\n",
    "        \n",
    "        if output == 'dict':            \n",
    "            if self.name:\n",
    "                prefix=self.name+'.'\n",
    "            else:\n",
    "                prefix=''\n",
    "            return { prefix+k:v(*args) for k, v in self.lambdas.iteritems() }\n",
    "        else: # output tuple in order of .outs\n",
    "            return tuple( self.lambdas[k](*args) for k in self.outs )           "
   ]
  },
  {
   "cell_type": "markdown",
   "metadata": {
    "slideshow": {
     "slide_type": "slide"
    }
   },
   "source": [
    "Let's test the conversion of the rewritten Python 2.7 code"
   ]
  },
  {
   "cell_type": "code",
   "execution_count": 94,
   "metadata": {
    "collapsed": false,
    "slideshow": {
     "slide_type": "slide"
    }
   },
   "outputs": [
    {
     "name": "stdout",
     "output_type": "stream",
     "text": [
      "--- process.py\t(original)\n",
      "+++ process.py\t(refactored)\n",
      "@@ -8,7 +8,7 @@\n",
      "         # Parse anything that looks like an equation and isn't commented out\n",
      "         if ('=' in s) and (s[0] != '#'):\n",
      "             # convert expression to sympy\n",
      "-            y, f = map(str.strip, s.split('=',1))\n",
      "+            y, f = list(map(str.strip, s.split('=',1)))\n",
      "             y = sympy.Symbol(y)\n",
      "             f = sympy.sympify(f)\n",
      "             assert type(y) == sympy.symbol.Symbol, err.format(s)\n",
      "@@ -28,10 +28,10 @@\n",
      "         \n",
      "         if Block.verbose:\n",
      "             s = 'Creating Block(expr={:s}, name={:s}, inputs={:s}, outputs={:s}, functions='\n",
      "-            s = s.format(*map(repr,[expr, name, inputs, outputs]))+'{'\n",
      "+            s = s.format(*list(map(repr,[expr, name, inputs, outputs])))+'{'\n",
      "             if functions:\n",
      "                 s_functions = []\n",
      "-                for k, v in functions.iteritems():\n",
      "+                for k, v in functions.items():\n",
      "                     s2 = k+':'+v.__name__\n",
      "                     args, varargs, keywords, defaults = getargspec(v)\n",
      "                     if varargs != None:\n",
      "@@ -41,7 +41,7 @@\n",
      "                     s2 += '('+','.join(args)+')'\n",
      "                     s_functions.append(s2)\n",
      "                 s += ','.join(s_functions)\n",
      "-            print s+'})'\n",
      "+            print(s+'})')\n",
      "         \n",
      "         self.name = name\n",
      "         self.user = functions\n",
      "@@ -74,13 +74,13 @@\n",
      "         outs = tuple([ i[0] for i in eqn ])\n",
      "         if outputs:\n",
      "             self.outs = sympy.symbols(outputs)\n",
      "-            print 'outs='+repr(outs)\n",
      "+            print('outs='+repr(outs))\n",
      "             self.hidden = tuple([ i for i in outs if i not in self.outs ])\n",
      "         else: # extract inputs from expr\n",
      "             self.outs = outs\n",
      "             self.hidden = tuple()\n",
      "             if Block.verbose:\n",
      "-                print '  Extracting outputs:', self.outs\n",
      "+                print('  Extracting outputs:', self.outs)\n",
      "                 \n",
      "         # create _eval() wrapper function with useful docstring        \n",
      "         self.eval = self._wrap_eval()\n",
      "@@ -118,15 +118,15 @@\n",
      "         s = 'Block'\n",
      "         if self.name:\n",
      "             s += '('+self.name +')'\n",
      "-        return repr({s:[ sympy.Eq(sympy.Symbol(k), v) for k,v in self.eqn.items() ]})\n",
      "+        return repr({s:[ sympy.Eq(sympy.Symbol(k), v) for k,v in list(self.eqn.items()) ]})\n",
      "     \n",
      "     # method doesn't work currently\n",
      "     __repr__ = __str__\n",
      "     \n",
      "     def pretty(self):\n",
      "         '''Show a SymPy pretty print version of Block equations'''\n",
      "-        print '\\nBlock:', self.name\n",
      "-        print '\\n'.join( sympy.pretty(e) for e in self.eqn )\n",
      "+        print('\\nBlock:', self.name)\n",
      "+        print('\\n'.join( sympy.pretty(e) for e in self.eqn ))\n",
      "         \n",
      "     @property\n",
      "     def latex(self):\n",
      "@@ -145,32 +145,32 @@\n",
      "             unknowns = self.outs+self.hidden\n",
      "         \n",
      "         if self.verbose:\n",
      "-            print 'Compiling Block '+repr(self.name)+' expressions:'\n",
      "+            print('Compiling Block '+repr(self.name)+' expressions:')\n",
      "             \n",
      "         # check for missing functions\n",
      "-        defined = set(dir(np) + self.user.keys())\n",
      "+        defined = set(dir(np) + list(self.user.keys()))\n",
      "         missing = [ f for f in self.func if str(f) not in defined ]\n",
      "         if missing:\n",
      "             s = 'Unable to find functions '+str(missing)+' in '+str(lookup)\n",
      "-            s += ' or user-defined functions ' + self.user.keys()\n",
      "-            raise LookupError, s\n",
      "+            s += ' or user-defined functions ' + list(self.user.keys())\n",
      "+            raise LookupError(s)\n",
      "         \n",
      "         # solve equations in terms of unknowns\n",
      "         eqn = sympy.solve(self.eqn, unknowns, dict=True)\n",
      "         if self.verbose:\n",
      "-            print 'Solving equations for unknowns:', unknowns \n",
      "-            print self.eqn\n",
      "-            print ' =', eqn, '\\n'\n",
      "+            print('Solving equations for unknowns:', unknowns) \n",
      "+            print(self.eqn)\n",
      "+            print(' =', eqn, '\\n')\n",
      "         \n",
      "         s = \"  {0:s} = sympy.lambdify({1:s}, {2:s}, '{3:s}')\" # verbose string\n",
      "-        for k, v in eqn[0].iteritems():   \n",
      "+        for k, v in eqn[0].items():   \n",
      "             if k in self.hidden: # skip intermediate values\n",
      "                 continue\n",
      "             \n",
      "             k = str(k) # convert output variable from sympy.Symbol\n",
      "             \n",
      "             if self.verbose:\n",
      "-                print s.format(*map(str, (k, self.ins, v, (lookup, self.user.keys()) )))\n",
      "+                print(s.format(*list(map(str, (k, self.ins, v, (lookup, list(self.user.keys())) )))))\n",
      "             f = sympy.lambdify(self.ins, v, (lookup, self.user))\n",
      "             # Update the function name and doc string from \"<lambda> lambda x, y, theta\"\n",
      "             f.__name__ = \"Block\"\n",
      "@@ -195,7 +195,7 @@\n",
      "         assert len(args) == len(ins)\n",
      " \n",
      "         # default kwargs values\n",
      "-        if not kwargs.has_key('output'):\n",
      "+        if 'output' not in kwargs:\n",
      "             output=Block.outputMode\n",
      "                    \n",
      "         # compile expressions if needed\n",
      "@@ -206,13 +206,13 @@\n",
      "             s = '\\nBlock.eval('\n",
      "             s += ', '.join( map(lambda k, v: str(k)+'='+str(v), ins, args) )\n",
      "             s += ', output='+repr(output)\n",
      "-            print s+')\\n'\n",
      "+            print(s+')\\n')\n",
      "         \n",
      "         if output == 'dict':            \n",
      "             if self.name:\n",
      "                 prefix=self.name+'.'\n",
      "             else:\n",
      "                 prefix=''\n",
      "-            return { prefix+k:v(*args) for k, v in self.lambdas.iteritems() }\n",
      "+            return { prefix+k:v(*args) for k, v in self.lambdas.items() }\n",
      "         else: # output tuple in order of .outs\n",
      "             return tuple( self.lambdas[k](*args) for k in self.outs )           \n"
     ]
    },
    {
     "name": "stderr",
     "output_type": "stream",
     "text": [
      "RefactoringTool: Skipping optional fixer: buffer\n",
      "RefactoringTool: Skipping optional fixer: idioms\n",
      "RefactoringTool: Skipping optional fixer: set_literal\n",
      "RefactoringTool: Skipping optional fixer: ws_comma\n",
      "RefactoringTool: Refactored process.py\n",
      "RefactoringTool: Files that were modified:\n",
      "RefactoringTool: process.py\n"
     ]
    }
   ],
   "source": [
    "!2to3 -w process.py"
   ]
  },
  {
   "cell_type": "markdown",
   "metadata": {
    "slideshow": {
     "slide_type": "slide"
    }
   },
   "source": [
    "Success!"
   ]
  },
  {
   "cell_type": "code",
   "execution_count": 95,
   "metadata": {
    "collapsed": true
   },
   "outputs": [],
   "source": [
    "from process import *"
   ]
  },
  {
   "cell_type": "code",
   "execution_count": 96,
   "metadata": {
    "collapsed": false
   },
   "outputs": [
    {
     "name": "stdout",
     "output_type": "stream",
     "text": [
      "Help on function parseExpr in module process:\n",
      "\n",
      "parseExpr(expr='')\n",
      "    Helper function to iterate through a list of equations\n",
      "\n",
      "Help on class Block in module process:\n",
      "\n",
      "class Block(builtins.object)\n",
      " |  Block(expr, inputs='', outputs='', functions={})\n",
      " |  Generic processing block that performs specified calculations on given inputs\n",
      " |  in such a way to ease documentation\n",
      " |  \n",
      " |  Methods defined here:\n",
      " |  \n",
      " |  __init__(self, expr, name='', inputs='', outputs='', functions={})\n",
      " |      Create a Block instance\n",
      " |  \n",
      " |  __repr__ = __str__(self)\n",
      " |  \n",
      " |  __str__(self)\n",
      " |      Support str calls on Block instances\n",
      " |  \n",
      " |  lambdify(*args, **kwargs) from builtins.type\n",
      " |      generate an executable function using NumPy and set the arguments to the variable names\n",
      " |  \n",
      " |  pretty(self)\n",
      " |      Show a SymPy pretty print version of Block equations\n",
      " |  \n",
      " |  ----------------------------------------------------------------------\n",
      " |  Data descriptors defined here:\n",
      " |  \n",
      " |  __dict__\n",
      " |      dictionary for instance variables (if defined)\n",
      " |  \n",
      " |  __weakref__\n",
      " |      list of weak references to the object (if defined)\n",
      " |  \n",
      " |  latex\n",
      " |      generate a latex version of Block equations\n",
      " |  \n",
      " |  ----------------------------------------------------------------------\n",
      " |  Data and other attributes defined here:\n",
      " |  \n",
      " |  outputMode = 'dict'\n",
      " |  \n",
      " |  verbose = True\n",
      "\n"
     ]
    }
   ],
   "source": [
    "for s in (parseExpr, Block):\n",
    "    help(s)"
   ]
  },
  {
   "cell_type": "markdown",
   "metadata": {
    "slideshow": {
     "slide_type": "slide"
    }
   },
   "source": [
    "### Interesting Links / References"
   ]
  },
  {
   "cell_type": "markdown",
   "metadata": {},
   "source": [
    "**Python and Jupyter Notebooks**\n",
    "\n",
    "[Markdown syntax](https://daringfireball.net/projects/markdown/syntax)\n",
    "\n",
    "[Notebook reveal-based slideshow tutorial](http://www.slideviper.oquanta.info/tutorial/slideshow_tutorial_slides.html#/)\n",
    "\n",
    "[A brief tour of the IPython notebook](http://www.slideviper.oquanta.info/tutorial/slideshow_tutorial_slides.html#/14): Same presentation, just later on\n",
    "\n",
    "[2to3 - Automated Python 2 to 3 code translation](https://docs.python.org/2/library/2to3.html)\n",
    "\n",
    "[But do I really want to use Python 3?](https://wiki.python.org/moin/Python2orPython3) **Yes**, it's been around since 2008\n",
    "\n",
    "[LaTeX documentation](https://www.latex-project.org/help/documentation/)\n",
    "\n",
    "[Python Exceptions](https://docs.python.org/3/library/exceptions.html#bltin-exceptions)"
   ]
  },
  {
   "cell_type": "markdown",
   "metadata": {},
   "source": [
    "**SymPy and LaTeX**\n",
    "\n",
    "[Scientific Python Lectures: Symbolic algebra](http://nbviewer.ipython.org/github/jrjohansson/scientific-python-lectures/blob/master/Lecture-5-Sympy.ipynb)\n",
    "\n",
    "[Live SymPy console](http://live.sympy.org/)\n",
    "\n",
    "[Wolfram Alpha-style search engine powered by SymPy](http://sympy-gamma-hrd.appspot.com/)\n",
    "[SymPy Tutorial](http://docs.sympy.org/latest/tutorial/index.html)\n",
    "\n",
    "[SymPy Modules](http://docs.sympy.org/latest/np-modindex.html#cap-s)\n",
    "\n",
    "[SymPy solvers module](http://docs.sympy.org/latest/modules/solvers/solvers.html): Algebraic/Differential/Recurrence/Diophantine equations, Utilities, Systems of Polynomial Equations\n",
    " Equations, Inequalities\n",
    "\n",
    "[SymPy Simplification Functions](http://docs.sympy.org/latest/tutorial/simplification.html): Function/Trigonometric/Powers/Exponentials/logarithms Simplification, Special Functions\n",
    "\n",
    "[SymPy Basic Operations](http://docs.sympy.org/latest/tutorial/basic_operations.html#evalf): Substitution, string inputs, evalf, lambdify\n",
    "\n",
    "[SymPy Basics of Expressions](http://mattpap.github.io/scipy-2011-tutorial/html/basics.html#the-role-of-symbols)\n",
    "\n",
    "[SymPy Expression Trees and Manipulations](http://docs.sympy.org/latest/tutorial/manipulation.html#tutorial-manipulation)\n",
    "\n",
    "[Embed LaTeX math equations into Microsoft Word](http://tex.stackexchange.com/questions/25223/embed-latex-math-equations-into-microsoft-word)\n",
    "\n",
    "[Type math formulas in LaTeX way in Microsoft Word?](http://superuser.com/questions/340650/type-math-formulas-in-latex-way-in-microsoft-word)\n",
    "\n",
    "[pyvideo.org videos for SymPy](http://pyvideo.org/search?models=videos.video&q=sympy)"
   ]
  },
  {
   "cell_type": "markdown",
   "metadata": {},
   "source": [
    "**SciPy and matplotlib**\n",
    "\n",
    "[SciPy Signal Processing module](http://docs.scipy.org/doc/scipy-0.13.0/reference/signal.html): Convolution, Filters, Linear Systems, Function Generators, Windowing, Wavelets, Peak finding, Spectral Analysis\n",
    "\n",
    "[SciPy Special Function module](http://docs.scipy.org/doc/scipy-0.13.0/reference/special.html#error-function-and-fresnel-integrals): Elliptic, Bessel, Gamma, Error, Legendre, Hypergeometric, Mathieu, Wave, and other functions\n",
    "\n",
    "[SciPy Cookbook: BPSK](http://wiki.scipy.org/Cookbook/CommTheory): A simple BPSK example with AWGN (no coding)\n",
    "\n",
    "[Matplotlib Gallery](http://matplotlib.org/gallery.html): Example plots"
   ]
  },
  {
   "cell_type": "markdown",
   "metadata": {
    "slideshow": {
     "slide_type": "slide"
    }
   },
   "source": [
    "### Any Questions?\n",
    "\n",
    "\n",
    "\n",
    "This presentation courtesy of Python \n",
    "\n",
    "\n",
    "    jupyter nbconvert --to slides Process.ipynb --post serve\n",
    "\n",
    "    [NbConvertApp] Converting notebook Process.ipynb to slides\n",
    "    [NbConvertApp] Writing 341651 bytes to Process.slides.html\n",
    "    [NbConvertApp] Redirecting reveal.js requests to https://cdn.jsdelivr.net/reveal.js/2.6.2\n",
    "    Serving your slides at http://127.0.0.1:8000/Process.slides.html\n",
    "    Use Control-C to stop this server\n",
    "    WARNING:tornado.access:404 GET /custom.css (127.0.0.1) 4.00ms\n",
    "    WARNING:tornado.access:404 GET /custom.css (127.0.0.1) 3.00ms"
   ]
  },
  {
   "cell_type": "code",
   "execution_count": null,
   "metadata": {
    "collapsed": false,
    "slideshow": {
     "slide_type": "skip"
    }
   },
   "outputs": [],
   "source": [
    "%%file notebook_slides.bat\n",
    "jupyter nbconvert --to slides Process.ipynb --post serve"
   ]
  }
 ],
 "metadata": {
  "celltoolbar": "Slideshow",
  "kernelspec": {
   "display_name": "Python 3",
   "language": "python",
   "name": "python3"
  },
  "language_info": {
   "codemirror_mode": {
    "name": "ipython",
    "version": 3
   },
   "file_extension": ".py",
   "mimetype": "text/x-python",
   "name": "python",
   "nbconvert_exporter": "python",
   "pygments_lexer": "ipython3",
   "version": "3.5.2"
  }
 },
 "nbformat": 4,
 "nbformat_minor": 0
}
